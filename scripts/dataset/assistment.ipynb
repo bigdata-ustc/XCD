{
 "cells": [
  {
   "cell_type": "code",
   "execution_count": 4,
   "metadata": {
    "collapsed": true
   },
   "outputs": [
    {
     "name": "stderr",
     "output_type": "stream",
     "text": [
      "downloader, INFO http://base.ustc.edu.cn/data/cdbd/a0910/item.csv is saved as ..\\..\\data\\a0910\\item.csv\n",
      "downloader, INFO http://base.ustc.edu.cn/data/cdbd/a0910/test.csv is saved as ..\\..\\data\\a0910\\test.csv\n",
      "downloader, INFO http://base.ustc.edu.cn/data/cdbd/a0910/train.csv is saved as ..\\..\\data\\a0910\\train.csv\n",
      "downloader, INFO http://base.ustc.edu.cn/data/cdbd/a0910/valid.csv is saved as ..\\..\\data\\a0910\\valid.csv\n"
     ]
    },
    {
     "name": "stdout",
     "output_type": "stream",
     "text": [
      "Downloading 100.00% : 262144 | 258118\n",
      "Downloading 100.00% : 811008 | 810767\n",
      "Downloading 100.00% : 2334720 | 2329161\n",
      "Downloading 100.00% : 376832 | 371493\n"
     ]
    },
    {
     "data": {
      "text/plain": "'../../data/'"
     },
     "execution_count": 4,
     "metadata": {},
     "output_type": "execute_result"
    }
   ],
   "source": [
    "from EduData import get_data\n",
    "\n",
    "get_data(\"cdbd-a0910\", \"../../data/\")"
   ]
  },
  {
   "cell_type": "code",
   "execution_count": 5,
   "outputs": [
    {
     "name": "stdout",
     "output_type": "stream",
     "text": [
      "<class 'pandas.core.frame.DataFrame'>\n",
      "RangeIndex: 186049 entries, 0 to 186048\n",
      "Data columns (total 3 columns):\n",
      " #   Column   Non-Null Count   Dtype\n",
      "---  ------   --------------   -----\n",
      " 0   user_id  186049 non-null  int64\n",
      " 1   item_id  186049 non-null  int64\n",
      " 2   score    186049 non-null  int64\n",
      "dtypes: int64(3)\n",
      "memory usage: 4.3 MB\n",
      "<class 'pandas.core.frame.DataFrame'>\n",
      "RangeIndex: 25606 entries, 0 to 25605\n",
      "Data columns (total 3 columns):\n",
      " #   Column   Non-Null Count  Dtype  \n",
      "---  ------   --------------  -----  \n",
      " 0   user_id  25606 non-null  int64  \n",
      " 1   item_id  25606 non-null  int64  \n",
      " 2   score    25606 non-null  float64\n",
      "dtypes: float64(1), int64(2)\n",
      "memory usage: 600.3 KB\n",
      "<class 'pandas.core.frame.DataFrame'>\n",
      "RangeIndex: 55760 entries, 0 to 55759\n",
      "Data columns (total 3 columns):\n",
      " #   Column   Non-Null Count  Dtype  \n",
      "---  ------   --------------  -----  \n",
      " 0   user_id  55760 non-null  int64  \n",
      " 1   item_id  55760 non-null  int64  \n",
      " 2   score    55760 non-null  float64\n",
      "dtypes: float64(1), int64(2)\n",
      "memory usage: 1.3 MB\n",
      "<class 'pandas.core.frame.DataFrame'>\n",
      "RangeIndex: 19529 entries, 0 to 19528\n",
      "Data columns (total 2 columns):\n",
      " #   Column          Non-Null Count  Dtype \n",
      "---  ------          --------------  ----- \n",
      " 0   item_id         19529 non-null  int64 \n",
      " 1   knowledge_code  19529 non-null  object\n",
      "dtypes: int64(1), object(1)\n",
      "memory usage: 305.3+ KB\n"
     ]
    }
   ],
   "source": [
    "import pandas as pd\n",
    "\n",
    "train_dataset = pd.read_csv(\"../../data/a0910/train.csv\")\n",
    "valid_dataset = pd.read_csv(\"../../data/a0910/valid.csv\")\n",
    "test_dataset = pd.read_csv(\"../../data/a0910/test.csv\")\n",
    "item_df = pd.read_csv(\"../../data/a0910/item.csv\")\n",
    "\n",
    "train_dataset.describe()\n",
    "train_dataset.info()\n",
    "\n",
    "valid_dataset.describe()\n",
    "valid_dataset.info()\n",
    "\n",
    "test_dataset.describe()\n",
    "test_dataset.info()\n",
    "\n",
    "item_df.describe()\n",
    "item_df.info()"
   ],
   "metadata": {
    "collapsed": false,
    "pycharm": {
     "name": "#%%\n"
    }
   }
  }
 ],
 "metadata": {
  "kernelspec": {
   "display_name": "Python 3",
   "language": "python",
   "name": "python3"
  },
  "language_info": {
   "codemirror_mode": {
    "name": "ipython",
    "version": 2
   },
   "file_extension": ".py",
   "mimetype": "text/x-python",
   "name": "python",
   "nbconvert_exporter": "python",
   "pygments_lexer": "ipython2",
   "version": "2.7.6"
  }
 },
 "nbformat": 4,
 "nbformat_minor": 0
}