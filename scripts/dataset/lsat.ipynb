{
 "cells": [
  {
   "cell_type": "code",
   "execution_count": 1,
   "metadata": {
    "collapsed": true
   },
   "outputs": [
    {
     "name": "stderr",
     "output_type": "stream",
     "text": [
      "downloader, INFO http://base.ustc.edu.cn/data/cdbd/LSAT/test.csv is saved as ..\\..\\data\\LSAT\\test.csv\n",
      "downloader, INFO http://base.ustc.edu.cn/data/cdbd/LSAT/train.csv is saved as ..\\..\\data\\LSAT\\train.csv\n",
      "downloader, INFO http://base.ustc.edu.cn/data/cdbd/LSAT/valid.csv is saved as ..\\..\\data\\LSAT\\valid.csv\n"
     ]
    },
    {
     "name": "stdout",
     "output_type": "stream",
     "text": [
      "Downloading 100.00% : 16384 | 11155\n",
      "Downloading 100.00% : 32768 | 30003\n",
      "Downloading 100.00% : 8192 | 3361\n"
     ]
    },
    {
     "data": {
      "text/plain": "'../../data/'"
     },
     "execution_count": 1,
     "metadata": {},
     "output_type": "execute_result"
    }
   ],
   "source": [
    "from EduData import get_data\n",
    "\n",
    "get_data(\"cdbd-lsat\", \"../../data/\")"
   ]
  },
  {
   "cell_type": "code",
   "execution_count": 2,
   "outputs": [
    {
     "name": "stdout",
     "output_type": "stream",
     "text": [
      "<class 'pandas.core.frame.DataFrame'>\n",
      "RangeIndex: 3375 entries, 0 to 3374\n",
      "Data columns (total 3 columns):\n",
      " #   Column   Non-Null Count  Dtype\n",
      "---  ------   --------------  -----\n",
      " 0   user_id  3375 non-null   int64\n",
      " 1   item_id  3375 non-null   int64\n",
      " 2   score    3375 non-null   int64\n",
      "dtypes: int64(3)\n",
      "memory usage: 79.2 KB\n",
      "<class 'pandas.core.frame.DataFrame'>\n",
      "RangeIndex: 375 entries, 0 to 374\n",
      "Data columns (total 3 columns):\n",
      " #   Column   Non-Null Count  Dtype\n",
      "---  ------   --------------  -----\n",
      " 0   user_id  375 non-null    int64\n",
      " 1   item_id  375 non-null    int64\n",
      " 2   score    375 non-null    int64\n",
      "dtypes: int64(3)\n",
      "memory usage: 8.9 KB\n",
      "<class 'pandas.core.frame.DataFrame'>\n",
      "RangeIndex: 1250 entries, 0 to 1249\n",
      "Data columns (total 3 columns):\n",
      " #   Column   Non-Null Count  Dtype\n",
      "---  ------   --------------  -----\n",
      " 0   user_id  1250 non-null   int64\n",
      " 1   item_id  1250 non-null   int64\n",
      " 2   score    1250 non-null   int64\n",
      "dtypes: int64(3)\n",
      "memory usage: 29.4 KB\n"
     ]
    }
   ],
   "source": [
    "import pandas as pd\n",
    "\n",
    "train_dataset = pd.read_csv(\"../../data/LSAT/train.csv\")\n",
    "valid_dataset = pd.read_csv(\"../../data/LSAT/valid.csv\")\n",
    "test_dataset = pd.read_csv(\"../../data/LSAT/test.csv\")\n",
    "\n",
    "train_dataset.describe()\n",
    "train_dataset.info()\n",
    "\n",
    "valid_dataset.describe()\n",
    "valid_dataset.info()\n",
    "\n",
    "test_dataset.describe()\n",
    "test_dataset.info()"
   ],
   "metadata": {
    "collapsed": false,
    "pycharm": {
     "name": "#%%\n"
    }
   }
  }
 ],
 "metadata": {
  "kernelspec": {
   "display_name": "Python 3",
   "language": "python",
   "name": "python3"
  },
  "language_info": {
   "codemirror_mode": {
    "name": "ipython",
    "version": 2
   },
   "file_extension": ".py",
   "mimetype": "text/x-python",
   "name": "python",
   "nbconvert_exporter": "python",
   "pygments_lexer": "ipython2",
   "version": "2.7.6"
  }
 },
 "nbformat": 4,
 "nbformat_minor": 0
}