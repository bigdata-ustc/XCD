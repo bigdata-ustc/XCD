{
 "cells": [
  {
   "cell_type": "code",
   "execution_count": 1,
   "metadata": {
    "collapsed": true
   },
   "outputs": [],
   "source": [
    "from XCD.IRT.MXIRT import IRT"
   ]
  },
  {
   "cell_type": "code",
   "execution_count": null,
   "outputs": [],
   "source": [
    "irt = IRT.train(\n",
    "    \"../../../data/a0910/train.csv\",\n",
    "    \"../../../data/a0910/valid.csv\",\n",
    "    hyper_params_update=dict(user_num=4163, item_num=17746),\n",
    "    init_params_update={\"initial_user_item\": False},\n",
    "    model_dir=\"../../../data/a0910/model\",\n",
    ")"
   ],
   "metadata": {
    "collapsed": false,
    "pycharm": {
     "name": "#%%\n"
    }
   }
  },
  {
   "cell_type": "code",
   "execution_count": 3,
   "outputs": [
    {
     "name": "stdout",
     "output_type": "stream",
     "text": [
      "             Epoch  macro_auc  macro_aupoc\n",
      "macro_auc        2   0.738323     0.831382\n",
      "macro_aupoc      2   0.738323     0.831382\n"
     ]
    }
   ],
   "source": [
    "# use longling to find best epoch\n",
    "!longling amax macro_auc macro_aupoc --src ../../../data/a0910/model/result.json --with_keys \"Epoch;macro_auc;macro_aupoc\""
   ],
   "metadata": {
    "collapsed": false,
    "pycharm": {
     "name": "#%%\n"
    }
   }
  },
  {
   "cell_type": "code",
   "execution_count": 12,
   "outputs": [
    {
     "name": "stderr",
     "output_type": "stream",
     "text": [
      "MXIRT, INFO load params from existing model file ../../../data/a0910/model\\MXIRT-0002.parmas\n"
     ]
    },
    {
     "data": {
      "text/plain": "           user_id        theta\ncount  4163.000000  4163.000000\nmean   2081.000000     1.026507\nstd    1201.898914     0.887386\nmin       0.000000    -3.200664\n25%    1040.500000     0.616657\n50%    2081.000000     0.616657\n75%    3121.500000     1.608961\nmax    4162.000000     3.881708",
      "text/html": "<div>\n<style scoped>\n    .dataframe tbody tr th:only-of-type {\n        vertical-align: middle;\n    }\n\n    .dataframe tbody tr th {\n        vertical-align: top;\n    }\n\n    .dataframe thead th {\n        text-align: right;\n    }\n</style>\n<table border=\"1\" class=\"dataframe\">\n  <thead>\n    <tr style=\"text-align: right;\">\n      <th></th>\n      <th>user_id</th>\n      <th>theta</th>\n    </tr>\n  </thead>\n  <tbody>\n    <tr>\n      <th>count</th>\n      <td>4163.000000</td>\n      <td>4163.000000</td>\n    </tr>\n    <tr>\n      <th>mean</th>\n      <td>2081.000000</td>\n      <td>1.026507</td>\n    </tr>\n    <tr>\n      <th>std</th>\n      <td>1201.898914</td>\n      <td>0.887386</td>\n    </tr>\n    <tr>\n      <th>min</th>\n      <td>0.000000</td>\n      <td>-3.200664</td>\n    </tr>\n    <tr>\n      <th>25%</th>\n      <td>1040.500000</td>\n      <td>0.616657</td>\n    </tr>\n    <tr>\n      <th>50%</th>\n      <td>2081.000000</td>\n      <td>0.616657</td>\n    </tr>\n    <tr>\n      <th>75%</th>\n      <td>3121.500000</td>\n      <td>1.608961</td>\n    </tr>\n    <tr>\n      <th>max</th>\n      <td>4162.000000</td>\n      <td>3.881708</td>\n    </tr>\n  </tbody>\n</table>\n</div>"
     },
     "execution_count": 12,
     "metadata": {},
     "output_type": "execute_result"
    }
   ],
   "source": [
    "# switch to the best epoch\n",
    "irt.reload(2)\n",
    "# get user_params and item_params\n",
    "user_df, item_df = irt()\n",
    "item_df.describe()\n",
    "user_df.describe()"
   ],
   "metadata": {
    "collapsed": false,
    "pycharm": {
     "name": "#%%\n"
    }
   }
  },
  {
   "cell_type": "code",
   "execution_count": 11,
   "outputs": [
    {
     "data": {
      "text/plain": "   user_id     theta\n0        0  0.616657\n1        1  3.742620\n2        2  0.880033\n3        3  2.513157\n4        4  1.953728",
      "text/html": "<div>\n<style scoped>\n    .dataframe tbody tr th:only-of-type {\n        vertical-align: middle;\n    }\n\n    .dataframe tbody tr th {\n        vertical-align: top;\n    }\n\n    .dataframe thead th {\n        text-align: right;\n    }\n</style>\n<table border=\"1\" class=\"dataframe\">\n  <thead>\n    <tr style=\"text-align: right;\">\n      <th></th>\n      <th>user_id</th>\n      <th>theta</th>\n    </tr>\n  </thead>\n  <tbody>\n    <tr>\n      <th>0</th>\n      <td>0</td>\n      <td>0.616657</td>\n    </tr>\n    <tr>\n      <th>1</th>\n      <td>1</td>\n      <td>3.742620</td>\n    </tr>\n    <tr>\n      <th>2</th>\n      <td>2</td>\n      <td>0.880033</td>\n    </tr>\n    <tr>\n      <th>3</th>\n      <td>3</td>\n      <td>2.513157</td>\n    </tr>\n    <tr>\n      <th>4</th>\n      <td>4</td>\n      <td>1.953728</td>\n    </tr>\n  </tbody>\n</table>\n</div>"
     },
     "execution_count": 11,
     "metadata": {},
     "output_type": "execute_result"
    }
   ],
   "source": [
    "user_df.head()"
   ],
   "metadata": {
    "collapsed": false,
    "pycharm": {
     "name": "#%%\n"
    }
   }
  },
  {
   "cell_type": "code",
   "execution_count": 13,
   "outputs": [
    {
     "data": {
      "text/plain": "   item_id         a         b    c\n0        0  0.712413  0.331391  0.4\n1        1  1.524613 -0.843478  0.4\n2        2  1.700138 -0.464817  0.4\n3        3  1.644631 -0.475192  0.4\n4        4  1.620067 -0.073674  0.4",
      "text/html": "<div>\n<style scoped>\n    .dataframe tbody tr th:only-of-type {\n        vertical-align: middle;\n    }\n\n    .dataframe tbody tr th {\n        vertical-align: top;\n    }\n\n    .dataframe thead th {\n        text-align: right;\n    }\n</style>\n<table border=\"1\" class=\"dataframe\">\n  <thead>\n    <tr style=\"text-align: right;\">\n      <th></th>\n      <th>item_id</th>\n      <th>a</th>\n      <th>b</th>\n      <th>c</th>\n    </tr>\n  </thead>\n  <tbody>\n    <tr>\n      <th>0</th>\n      <td>0</td>\n      <td>0.712413</td>\n      <td>0.331391</td>\n      <td>0.4</td>\n    </tr>\n    <tr>\n      <th>1</th>\n      <td>1</td>\n      <td>1.524613</td>\n      <td>-0.843478</td>\n      <td>0.4</td>\n    </tr>\n    <tr>\n      <th>2</th>\n      <td>2</td>\n      <td>1.700138</td>\n      <td>-0.464817</td>\n      <td>0.4</td>\n    </tr>\n    <tr>\n      <th>3</th>\n      <td>3</td>\n      <td>1.644631</td>\n      <td>-0.475192</td>\n      <td>0.4</td>\n    </tr>\n    <tr>\n      <th>4</th>\n      <td>4</td>\n      <td>1.620067</td>\n      <td>-0.073674</td>\n      <td>0.4</td>\n    </tr>\n  </tbody>\n</table>\n</div>"
     },
     "execution_count": 13,
     "metadata": {},
     "output_type": "execute_result"
    }
   ],
   "source": [
    "item_df.head()"
   ],
   "metadata": {
    "collapsed": false,
    "pycharm": {
     "name": "#%%\n"
    }
   }
  },
  {
   "cell_type": "code",
   "execution_count": 8,
   "outputs": [
    {
     "data": {
      "text/plain": "   user_id  item_id  score\n0        1     4999    1.0\n1        1     6787    1.0\n2        1    14337    1.0\n3        1     4994    1.0\n4        1    16469    1.0",
      "text/html": "<div>\n<style scoped>\n    .dataframe tbody tr th:only-of-type {\n        vertical-align: middle;\n    }\n\n    .dataframe tbody tr th {\n        vertical-align: top;\n    }\n\n    .dataframe thead th {\n        text-align: right;\n    }\n</style>\n<table border=\"1\" class=\"dataframe\">\n  <thead>\n    <tr style=\"text-align: right;\">\n      <th></th>\n      <th>user_id</th>\n      <th>item_id</th>\n      <th>score</th>\n    </tr>\n  </thead>\n  <tbody>\n    <tr>\n      <th>0</th>\n      <td>1</td>\n      <td>4999</td>\n      <td>1.0</td>\n    </tr>\n    <tr>\n      <th>1</th>\n      <td>1</td>\n      <td>6787</td>\n      <td>1.0</td>\n    </tr>\n    <tr>\n      <th>2</th>\n      <td>1</td>\n      <td>14337</td>\n      <td>1.0</td>\n    </tr>\n    <tr>\n      <th>3</th>\n      <td>1</td>\n      <td>4994</td>\n      <td>1.0</td>\n    </tr>\n    <tr>\n      <th>4</th>\n      <td>1</td>\n      <td>16469</td>\n      <td>1.0</td>\n    </tr>\n  </tbody>\n</table>\n</div>"
     },
     "execution_count": 8,
     "metadata": {},
     "output_type": "execute_result"
    }
   ],
   "source": [
    "import pandas as pd\n",
    "test_df = pd.read_csv(\"../../../data/a0910/test.csv\")\n",
    "test_df.head()"
   ],
   "metadata": {
    "collapsed": false,
    "pycharm": {
     "name": "#%%\n"
    }
   }
  },
  {
   "cell_type": "code",
   "execution_count": 9,
   "outputs": [
    {
     "name": "stdout",
     "output_type": "stream",
     "text": [
      "           precision    recall        f1  support\n",
      "0.0         0.817368  0.156265  0.262369    19275\n",
      "1.0         0.687700  0.981554  0.808762    36485\n",
      "macro_avg   0.752534  0.568909  0.535566    55760\n",
      "accuracy: 0.696270\tmacro_auc: 0.739607\tmacro_aupoc: 0.826016\n"
     ]
    }
   ],
   "source": [
    "from XCD.IRT.metrics import eval_irt\n",
    "\n",
    "eval_irt(test_df, user_df, item_df)\n"
   ],
   "metadata": {
    "collapsed": false,
    "pycharm": {
     "name": "#%%\n"
    }
   }
  }
 ],
 "metadata": {
  "kernelspec": {
   "display_name": "Python 3",
   "language": "python",
   "name": "python3"
  },
  "language_info": {
   "codemirror_mode": {
    "name": "ipython",
    "version": 2
   },
   "file_extension": ".py",
   "mimetype": "text/x-python",
   "name": "python",
   "nbconvert_exporter": "python",
   "pygments_lexer": "ipython2",
   "version": "2.7.6"
  }
 },
 "nbformat": 4,
 "nbformat_minor": 0
}