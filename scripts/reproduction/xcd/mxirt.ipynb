{
 "cells": [
  {
   "cell_type": "code",
   "execution_count": 1,
   "metadata": {
    "collapsed": true
   },
   "outputs": [],
   "source": [
    "from XCD.IRT.MXIRT import IRT"
   ]
  },
  {
   "cell_type": "code",
   "execution_count": 2,
   "outputs": [
    {
     "name": "stderr",
     "output_type": "stream",
     "text": [
      "MXIRT, INFO Params\n",
      "logger: <Logger MXIRT (INFO)>\n",
      "model_name: MXIRT\n",
      "root: G:\\program\\OpenXCD\n",
      "dataset: \n",
      "timestamp: 20201121220512\n",
      "workspace: \n",
      "root_data_dir: G:\\program\\OpenXCD\\data\n",
      "data_dir: G:\\program\\OpenXCD\\data\\data\n",
      "root_model_dir: G:\\program\\OpenXCD\\data\\model\\MXIRT\n",
      "model_dir: ../../../data/a0910/model\n",
      "cfg_path: ..\\..\\..\\data\\a0910\\model\\configuration.json\n",
      "begin_epoch: 0\n",
      "end_epoch: 10\n",
      "batch_size: 256\n",
      "save_epoch: 1\n",
      "optimizer: adam\n",
      "optimizer_params: {'learning_rate': 0.01, 'clip_gradient': 1}\n",
      "lr_params: {'update_params': {}}\n",
      "train_select: None\n",
      "save_select: None\n",
      "ctx: cpu(0)\n",
      "toolbox_params: {}\n",
      "hyper_params: {'user_num': 4163, 'item_num': 17746, 'theta_range': [-4, 4], 'a_range': [0.25, 2], 'b_range': [-2, 2], 'c_range': [0, 0.4]}\n",
      "init_params: {}\n",
      "loss_params: {}\n",
      "caption: \n",
      "validation_result_file: ..\\..\\..\\data\\a0910\\model\\result.json\n",
      "MXIRT, INFO parameters will be saved to ../../../data/a0910/model\n",
      "MXIRT, INFO generating symbol\n",
      "MXIRT, INFO loading data\n",
      "MXIRT, INFO Starting to loading data from G:\\program\\OpenXCD\\data\\a0910\\train.csv\n",
      "MXIRT, INFO Finished to loading data from G:\\program\\OpenXCD\\data\\a0910\\train.csv in 0.054881 seconds\n",
      "MXIRT, INFO loading data\n",
      "MXIRT, INFO Starting to loading data from G:\\program\\OpenXCD\\data\\a0910\\valid.csv\n",
      "MXIRT, INFO Finished to loading data from G:\\program\\OpenXCD\\data\\a0910\\valid.csv in 0.011968 seconds\n",
      "MXIRT, INFO model doesn't exist, initializing\n",
      "MXIRT, INFO Starting to get initial user and item parameters\n",
      "MXIRT, INFO Starting to get initial user theta\n",
      "MXIRT, INFO Finished to get initial user theta in 0.019946 seconds\n",
      "MXIRT, INFO Starting to get initial item a\n",
      "MXIRT, INFO Finished to get initial item a in 12.849906 seconds\n",
      "MXIRT, INFO Starting to get initial item b\n",
      "MXIRT, INFO Finished to get initial item b in 0.022939 seconds\n",
      "MXIRT, INFO Starting to get initial item c\n",
      "MXIRT, INFO Finished to get initial item c in 26.416125 seconds\n",
      "MXIRT, INFO Finished to get initial user and item parameters in 39.320845 seconds\n",
      "f:\\env\\python3\\lib\\site-packages\\mxnet\\gluon\\parameter.py:862: UserWarning: Parameter 'irt0_theta_weight' is already initialized, ignoring. Set force_reinit=True to re-initialize.\n",
      "  v.initialize(None, ctx, init, force_reinit=force_reinit)\n",
      "f:\\env\\python3\\lib\\site-packages\\mxnet\\gluon\\parameter.py:862: UserWarning: Parameter 'irt0_b_weight' is already initialized, ignoring. Set force_reinit=True to re-initialize.\n",
      "  v.initialize(None, ctx, init, force_reinit=force_reinit)\n",
      "f:\\env\\python3\\lib\\site-packages\\mxnet\\gluon\\parameter.py:862: UserWarning: Parameter 'irt0_a_weight' is already initialized, ignoring. Set force_reinit=True to re-initialize.\n",
      "  v.initialize(None, ctx, init, force_reinit=force_reinit)\n",
      "f:\\env\\python3\\lib\\site-packages\\mxnet\\gluon\\parameter.py:862: UserWarning: Parameter 'irt0_c_weight' is already initialized, ignoring. Set force_reinit=True to re-initialize.\n",
      "  v.initialize(None, ctx, init, force_reinit=force_reinit)\n",
      "MXIRT, INFO writing configuration parameters to G:\\program\\OpenXCD\\data\\a0910\\model\\configuration.json\n",
      "MXIRT, INFO start training\n",
      "MXIRT, INFO reset trainer\n",
      "MXIRT, INFO {'scheduler': 'CosineScheduler', 'base_lr': 0.01, 'step': 1, 'max_steps': 6534, 'final_lr': 0, 'warmup_mode': 'linear', 'warmup_begin_lr': 0, 'warmup_steps': 0}\n",
      "evaluating: 100%|██████████| 101/101 [00:00<00:00, 261.01it/s]\n",
      "evaluating: 100%|██████████| 101/101 [00:00<00:00, 255.73it/s]\n",
      "evaluating: 100%|██████████| 101/101 [00:00<00:00, 230.05it/s]\n",
      "evaluating: 100%|██████████| 101/101 [00:00<00:00, 245.77it/s]\n",
      "evaluating: 100%|██████████| 101/101 [00:00<00:00, 255.02it/s]\n",
      "evaluating: 100%|██████████| 101/101 [00:00<00:00, 254.75it/s]\n",
      "evaluating: 100%|██████████| 101/101 [00:00<00:00, 244.61it/s]\n",
      "evaluating: 100%|██████████| 101/101 [00:00<00:00, 257.03it/s]\n",
      "evaluating: 100%|██████████| 101/101 [00:00<00:00, 256.35it/s]\n",
      "evaluating: 100%|██████████| 101/101 [00:00<00:00, 255.53it/s]\n"
     ]
    },
    {
     "name": "stdout",
     "output_type": "stream",
     "text": [
      "Epoch| Total-E          Batch     Total-B       Loss-LogisticLoss             Progress           \n",
      "    0|       9            727         727                0.483126    [00:06<00:00, 120.99it/s]   \n",
      "Epoch [0]\tTrain Time-6.010s\tLoss - LogisticLoss: 0.483126\n",
      "           precision    recall        f1  support\n",
      "0.0         0.840326  0.082778  0.150711     8710\n",
      "1.0         0.677186  0.991892  0.804870    16896\n",
      "macro_avg   0.758756  0.537335  0.477790    25606\n",
      "accuracy: 0.682653\tmacro_auc: 0.732341\tmacro_aupoc: 0.829289\n",
      "Epoch| Total-E          Batch     Total-B       Loss-LogisticLoss             Progress           \n",
      "    1|       9            727         727                0.480074    [00:06<00:00, 117.54it/s]   \n",
      "Epoch [1]\tTrain Time-6.186s\tLoss - LogisticLoss: 0.480074\n",
      "           precision    recall        f1  support\n",
      "0.0         0.816279  0.120896  0.210600     8710\n",
      "1.0         0.685104  0.985973  0.808454    16896\n",
      "macro_avg   0.750692  0.553434  0.509527    25606\n",
      "accuracy: 0.691713\tmacro_auc: 0.736783\tmacro_aupoc: 0.831231\n",
      "Epoch| Total-E          Batch     Total-B       Loss-LogisticLoss             Progress           \n",
      "    2|       9            727         727                0.478111    [00:06<00:00, 115.50it/s]   \n",
      "Epoch [2]\tTrain Time-6.296s\tLoss - LogisticLoss: 0.478111\n",
      "           precision    recall        f1  support\n",
      "0.0         0.802934  0.144546  0.244989     8710\n",
      "1.0         0.690032  0.981712  0.810427    16896\n",
      "macro_avg   0.746483  0.563129  0.527708    25606\n",
      "accuracy: 0.696946\tmacro_auc: 0.738323\tmacro_aupoc: 0.831382\n",
      "Epoch| Total-E          Batch     Total-B       Loss-LogisticLoss             Progress           \n",
      "    3|       9            727         727                0.477017    [00:06<00:00, 116.87it/s]   \n",
      "Epoch [3]\tTrain Time-6.222s\tLoss - LogisticLoss: 0.477017\n",
      "           precision    recall        f1  support\n",
      "0.0         0.794974  0.159816  0.266131     8710\n",
      "1.0         0.693230  0.978752  0.811612    16896\n",
      "macro_avg   0.744102  0.569284  0.538872    25606\n",
      "accuracy: 0.700187\tmacro_auc: 0.737577\tmacro_aupoc: 0.829908\n",
      "Epoch| Total-E          Batch     Total-B       Loss-LogisticLoss             Progress           \n",
      "    4|       9            727         727                0.476313    [00:06<00:00, 115.56it/s]   \n",
      "Epoch [4]\tTrain Time-6.292s\tLoss - LogisticLoss: 0.476313\n",
      "           precision    recall        f1  support\n",
      "0.0         0.785639  0.170838  0.280649     8710\n",
      "1.0         0.695428  0.975971  0.812155    16896\n",
      "macro_avg   0.740534  0.573404  0.546402    25606\n",
      "accuracy: 0.702101\tmacro_auc: 0.736722\tmacro_aupoc: 0.828291\n",
      "Epoch| Total-E          Batch     Total-B       Loss-LogisticLoss             Progress           \n",
      "    5|       9            727         727                0.475809    [00:06<00:00, 112.37it/s]   \n",
      "Epoch [5]\tTrain Time-6.472s\tLoss - LogisticLoss: 0.475809\n",
      "           precision    recall        f1  support\n",
      "0.0         0.781155  0.177038  0.288656     8710\n",
      "1.0         0.696682  0.974432  0.812475    16896\n",
      "macro_avg   0.738919  0.575735  0.550566    25606\n",
      "accuracy: 0.703195\tmacro_auc: 0.735957\tmacro_aupoc: 0.826979\n",
      "Epoch| Total-E          Batch     Total-B       Loss-LogisticLoss             Progress           \n",
      "    6|       9            727         727                0.475449    [00:06<00:00, 115.34it/s]   \n",
      "Epoch [6]\tTrain Time-6.304s\tLoss - LogisticLoss: 0.475449\n",
      "           precision    recall        f1  support\n",
      "0.0         0.777235  0.182664  0.295807     8710\n",
      "1.0         0.697822  0.973011  0.812755    16896\n",
      "macro_avg   0.737529  0.577837  0.554281    25606\n",
      "accuracy: 0.704171\tmacro_auc: 0.735450\tmacro_aupoc: 0.825848\n",
      "Epoch| Total-E          Batch     Total-B       Loss-LogisticLoss             Progress           \n",
      "    7|       9            727         727                0.475203    [00:06<00:00, 108.48it/s]   \n",
      "Epoch [7]\tTrain Time-6.703s\tLoss - LogisticLoss: 0.475203\n",
      "           precision    recall        f1  support\n",
      "0.0         0.774349  0.184386  0.297849     8710\n",
      "1.0         0.698113  0.972301  0.812704    16896\n",
      "macro_avg   0.736231  0.578343  0.555276    25606\n",
      "accuracy: 0.704288\tmacro_auc: 0.735220\tmacro_aupoc: 0.825626\n",
      "Epoch| Total-E          Batch     Total-B       Loss-LogisticLoss             Progress           \n",
      "    8|       9            727         727                0.475061    [00:06<00:00, 117.10it/s]   \n",
      "Epoch [8]\tTrain Time-6.209s\tLoss - LogisticLoss: 0.475061\n",
      "           precision    recall        f1  support\n",
      "0.0         0.774425  0.185649  0.299500     8710\n",
      "1.0         0.698401  0.972124  0.812837    16896\n",
      "macro_avg   0.736413  0.578886  0.556169    25606\n",
      "accuracy: 0.704600\tmacro_auc: 0.735126\tmacro_aupoc: 0.825360\n",
      "Epoch| Total-E          Batch     Total-B       Loss-LogisticLoss             Progress           \n",
      "    9|       9            727         727                0.475013    [00:06<00:00, 117.29it/s]   \n",
      "Epoch [9]\tTrain Time-6.201s\tLoss - LogisticLoss: 0.475013\n",
      "           precision    recall        f1  support\n",
      "0.0         0.774055  0.185649  0.299472     8710\n",
      "1.0         0.698388  0.972064  0.812808    16896\n",
      "macro_avg   0.736221  0.578857  0.556140    25606\n",
      "accuracy: 0.704561\tmacro_auc: 0.735123\tmacro_aupoc: 0.825334\n"
     ]
    }
   ],
   "source": [
    "irt = IRT.train(\n",
    "    \"../../../data/a0910/train.csv\",\n",
    "    \"../../../data/a0910/valid.csv\",\n",
    "    model_dir=\"../../../data/a0910/model\",\n",
    ")"
   ],
   "metadata": {
    "collapsed": false,
    "pycharm": {
     "name": "#%%\n"
    }
   }
  },
  {
   "cell_type": "code",
   "execution_count": 3,
   "outputs": [
    {
     "name": "stdout",
     "output_type": "stream",
     "text": [
      "             Epoch  macro_auc  macro_aupoc\n",
      "macro_auc        2   0.738323     0.831382\n",
      "macro_aupoc      2   0.738323     0.831382\n"
     ]
    }
   ],
   "source": [
    "# use longling to find best epoch\n",
    "!longling amax macro_auc macro_aupoc --src ../../../data/a0910/model/result.json --with_keys \"Epoch;macro_auc;macro_aupoc\""
   ],
   "metadata": {
    "collapsed": false,
    "pycharm": {
     "name": "#%%\n"
    }
   }
  },
  {
   "cell_type": "code",
   "execution_count": 12,
   "outputs": [
    {
     "name": "stderr",
     "output_type": "stream",
     "text": [
      "MXIRT, INFO load params from existing model file ../../../data/a0910/model\\MXIRT-0002.parmas\n"
     ]
    },
    {
     "data": {
      "text/plain": "           user_id        theta\ncount  4163.000000  4163.000000\nmean   2081.000000     1.026507\nstd    1201.898914     0.887386\nmin       0.000000    -3.200664\n25%    1040.500000     0.616657\n50%    2081.000000     0.616657\n75%    3121.500000     1.608961\nmax    4162.000000     3.881708",
      "text/html": "<div>\n<style scoped>\n    .dataframe tbody tr th:only-of-type {\n        vertical-align: middle;\n    }\n\n    .dataframe tbody tr th {\n        vertical-align: top;\n    }\n\n    .dataframe thead th {\n        text-align: right;\n    }\n</style>\n<table border=\"1\" class=\"dataframe\">\n  <thead>\n    <tr style=\"text-align: right;\">\n      <th></th>\n      <th>user_id</th>\n      <th>theta</th>\n    </tr>\n  </thead>\n  <tbody>\n    <tr>\n      <th>count</th>\n      <td>4163.000000</td>\n      <td>4163.000000</td>\n    </tr>\n    <tr>\n      <th>mean</th>\n      <td>2081.000000</td>\n      <td>1.026507</td>\n    </tr>\n    <tr>\n      <th>std</th>\n      <td>1201.898914</td>\n      <td>0.887386</td>\n    </tr>\n    <tr>\n      <th>min</th>\n      <td>0.000000</td>\n      <td>-3.200664</td>\n    </tr>\n    <tr>\n      <th>25%</th>\n      <td>1040.500000</td>\n      <td>0.616657</td>\n    </tr>\n    <tr>\n      <th>50%</th>\n      <td>2081.000000</td>\n      <td>0.616657</td>\n    </tr>\n    <tr>\n      <th>75%</th>\n      <td>3121.500000</td>\n      <td>1.608961</td>\n    </tr>\n    <tr>\n      <th>max</th>\n      <td>4162.000000</td>\n      <td>3.881708</td>\n    </tr>\n  </tbody>\n</table>\n</div>"
     },
     "execution_count": 12,
     "metadata": {},
     "output_type": "execute_result"
    }
   ],
   "source": [
    "# switch to the best epoch\n",
    "irt.reload(2)\n",
    "# get user_params and item_params\n",
    "user_df, item_df = irt()\n",
    "item_df.describe()\n",
    "user_df.describe()"
   ],
   "metadata": {
    "collapsed": false,
    "pycharm": {
     "name": "#%%\n"
    }
   }
  },
  {
   "cell_type": "code",
   "execution_count": 11,
   "outputs": [
    {
     "data": {
      "text/plain": "   user_id     theta\n0        0  0.616657\n1        1  3.742620\n2        2  0.880033\n3        3  2.513157\n4        4  1.953728",
      "text/html": "<div>\n<style scoped>\n    .dataframe tbody tr th:only-of-type {\n        vertical-align: middle;\n    }\n\n    .dataframe tbody tr th {\n        vertical-align: top;\n    }\n\n    .dataframe thead th {\n        text-align: right;\n    }\n</style>\n<table border=\"1\" class=\"dataframe\">\n  <thead>\n    <tr style=\"text-align: right;\">\n      <th></th>\n      <th>user_id</th>\n      <th>theta</th>\n    </tr>\n  </thead>\n  <tbody>\n    <tr>\n      <th>0</th>\n      <td>0</td>\n      <td>0.616657</td>\n    </tr>\n    <tr>\n      <th>1</th>\n      <td>1</td>\n      <td>3.742620</td>\n    </tr>\n    <tr>\n      <th>2</th>\n      <td>2</td>\n      <td>0.880033</td>\n    </tr>\n    <tr>\n      <th>3</th>\n      <td>3</td>\n      <td>2.513157</td>\n    </tr>\n    <tr>\n      <th>4</th>\n      <td>4</td>\n      <td>1.953728</td>\n    </tr>\n  </tbody>\n</table>\n</div>"
     },
     "execution_count": 11,
     "metadata": {},
     "output_type": "execute_result"
    }
   ],
   "source": [
    "user_df.head()"
   ],
   "metadata": {
    "collapsed": false,
    "pycharm": {
     "name": "#%%\n"
    }
   }
  },
  {
   "cell_type": "code",
   "execution_count": 13,
   "outputs": [
    {
     "data": {
      "text/plain": "   item_id         a         b    c\n0        0  0.712413  0.331391  0.4\n1        1  1.524613 -0.843478  0.4\n2        2  1.700138 -0.464817  0.4\n3        3  1.644631 -0.475192  0.4\n4        4  1.620067 -0.073674  0.4",
      "text/html": "<div>\n<style scoped>\n    .dataframe tbody tr th:only-of-type {\n        vertical-align: middle;\n    }\n\n    .dataframe tbody tr th {\n        vertical-align: top;\n    }\n\n    .dataframe thead th {\n        text-align: right;\n    }\n</style>\n<table border=\"1\" class=\"dataframe\">\n  <thead>\n    <tr style=\"text-align: right;\">\n      <th></th>\n      <th>item_id</th>\n      <th>a</th>\n      <th>b</th>\n      <th>c</th>\n    </tr>\n  </thead>\n  <tbody>\n    <tr>\n      <th>0</th>\n      <td>0</td>\n      <td>0.712413</td>\n      <td>0.331391</td>\n      <td>0.4</td>\n    </tr>\n    <tr>\n      <th>1</th>\n      <td>1</td>\n      <td>1.524613</td>\n      <td>-0.843478</td>\n      <td>0.4</td>\n    </tr>\n    <tr>\n      <th>2</th>\n      <td>2</td>\n      <td>1.700138</td>\n      <td>-0.464817</td>\n      <td>0.4</td>\n    </tr>\n    <tr>\n      <th>3</th>\n      <td>3</td>\n      <td>1.644631</td>\n      <td>-0.475192</td>\n      <td>0.4</td>\n    </tr>\n    <tr>\n      <th>4</th>\n      <td>4</td>\n      <td>1.620067</td>\n      <td>-0.073674</td>\n      <td>0.4</td>\n    </tr>\n  </tbody>\n</table>\n</div>"
     },
     "execution_count": 13,
     "metadata": {},
     "output_type": "execute_result"
    }
   ],
   "source": [
    "item_df.head()"
   ],
   "metadata": {
    "collapsed": false,
    "pycharm": {
     "name": "#%%\n"
    }
   }
  },
  {
   "cell_type": "code",
   "execution_count": 8,
   "outputs": [
    {
     "data": {
      "text/plain": "   user_id  item_id  score\n0        1     4999    1.0\n1        1     6787    1.0\n2        1    14337    1.0\n3        1     4994    1.0\n4        1    16469    1.0",
      "text/html": "<div>\n<style scoped>\n    .dataframe tbody tr th:only-of-type {\n        vertical-align: middle;\n    }\n\n    .dataframe tbody tr th {\n        vertical-align: top;\n    }\n\n    .dataframe thead th {\n        text-align: right;\n    }\n</style>\n<table border=\"1\" class=\"dataframe\">\n  <thead>\n    <tr style=\"text-align: right;\">\n      <th></th>\n      <th>user_id</th>\n      <th>item_id</th>\n      <th>score</th>\n    </tr>\n  </thead>\n  <tbody>\n    <tr>\n      <th>0</th>\n      <td>1</td>\n      <td>4999</td>\n      <td>1.0</td>\n    </tr>\n    <tr>\n      <th>1</th>\n      <td>1</td>\n      <td>6787</td>\n      <td>1.0</td>\n    </tr>\n    <tr>\n      <th>2</th>\n      <td>1</td>\n      <td>14337</td>\n      <td>1.0</td>\n    </tr>\n    <tr>\n      <th>3</th>\n      <td>1</td>\n      <td>4994</td>\n      <td>1.0</td>\n    </tr>\n    <tr>\n      <th>4</th>\n      <td>1</td>\n      <td>16469</td>\n      <td>1.0</td>\n    </tr>\n  </tbody>\n</table>\n</div>"
     },
     "execution_count": 8,
     "metadata": {},
     "output_type": "execute_result"
    }
   ],
   "source": [
    "import pandas as pd\n",
    "test_df = pd.read_csv(\"../../../data/a0910/test.csv\")\n",
    "test_df.head()"
   ],
   "metadata": {
    "collapsed": false,
    "pycharm": {
     "name": "#%%\n"
    }
   }
  },
  {
   "cell_type": "code",
   "execution_count": 9,
   "outputs": [
    {
     "name": "stdout",
     "output_type": "stream",
     "text": [
      "           precision    recall        f1  support\n",
      "0.0         0.817368  0.156265  0.262369    19275\n",
      "1.0         0.687700  0.981554  0.808762    36485\n",
      "macro_avg   0.752534  0.568909  0.535566    55760\n",
      "accuracy: 0.696270\tmacro_auc: 0.739607\tmacro_aupoc: 0.826016\n"
     ]
    }
   ],
   "source": [
    "from XCD.IRT.metrics import eval_irt\n",
    "\n",
    "eval_irt(test_df, user_df, item_df)\n"
   ],
   "metadata": {
    "collapsed": false,
    "pycharm": {
     "name": "#%%\n"
    }
   }
  }
 ],
 "metadata": {
  "kernelspec": {
   "display_name": "Python 3",
   "language": "python",
   "name": "python3"
  },
  "language_info": {
   "codemirror_mode": {
    "name": "ipython",
    "version": 2
   },
   "file_extension": ".py",
   "mimetype": "text/x-python",
   "name": "python",
   "nbconvert_exporter": "python",
   "pygments_lexer": "ipython2",
   "version": "2.7.6"
  }
 },
 "nbformat": 4,
 "nbformat_minor": 0
}