{
 "cells": [
  {
   "cell_type": "code",
   "execution_count": 102,
   "metadata": {
    "collapsed": true
   },
   "outputs": [],
   "source": [
    "from XCD.IRT.MXIRT import IRT"
   ]
  },
  {
   "cell_type": "code",
   "execution_count": 103,
   "outputs": [
    {
     "name": "stderr",
     "output_type": "stream",
     "text": [
      "MXIRT, INFO Params\n",
      "logger: <Logger MXIRT (INFO)>\n",
      "model_name: MXIRT\n",
      "root: E:\\Program\\XCD\n",
      "dataset: \n",
      "timestamp: 20201123222236\n",
      "workspace: \n",
      "root_data_dir: E:\\Program\\XCD\\data\n",
      "data_dir: E:\\Program\\XCD\\data\\data\n",
      "root_model_dir: E:\\Program\\XCD\\data\\model\\MXIRT\n",
      "model_dir: ../../../data/LSAT/model\n",
      "cfg_path: ..\\..\\..\\data\\LSAT\\model\\configuration.json\n",
      "begin_epoch: 0\n",
      "end_epoch: 10\n",
      "batch_size: 64\n",
      "save_epoch: 1\n",
      "optimizer: adam\n",
      "optimizer_params: {'learning_rate': 0.01, 'clip_gradient': 1}\n",
      "lr_params: {'update_params': {}}\n",
      "train_select: None\n",
      "save_select: None\n",
      "ctx: cpu(0)\n",
      "toolbox_params: {}\n",
      "hyper_params: {'user_num': 1000, 'item_num': 5, 'theta_range': [-4, 4], 'a_range': [0.25, 2], 'b_range': [-2, 2], 'c_range': [0, 0.4]}\n",
      "init_params: {}\n",
      "loss_params: {}\n",
      "caption: \n",
      "hyper_params_update: {'user_num': 1000, 'item_num': 5}\n",
      "validation_result_file: ..\\..\\..\\data\\LSAT\\model\\result.json\n",
      "MXIRT, INFO parameters will be saved to ../../../data/LSAT/model\n",
      "MXIRT, INFO generating symbol\n",
      "MXIRT, INFO loading data\n",
      "MXIRT, INFO Starting to loading data from E:\\Program\\XCD\\data\\LSAT\\train.csv\n",
      "MXIRT, INFO Finished to loading data from E:\\Program\\XCD\\data\\LSAT\\train.csv in 0.002993 seconds\n",
      "MXIRT, INFO loading data\n",
      "MXIRT, INFO Starting to loading data from E:\\Program\\XCD\\data\\LSAT\\valid.csv\n",
      "MXIRT, INFO Finished to loading data from E:\\Program\\XCD\\data\\LSAT\\valid.csv in 0.001995 seconds\n",
      "MXIRT, INFO model doesn't exist, initializing\n",
      "MXIRT, INFO Starting to get initial user and item parameters\n",
      "MXIRT, INFO Starting to get initial user theta\n",
      "MXIRT, INFO Finished to get initial user theta in 0.008976 seconds\n",
      "MXIRT, INFO Starting to get initial item a\n",
      "MXIRT, INFO Finished to get initial item a in 0.018950 seconds\n",
      "MXIRT, INFO Starting to get initial item b\n",
      "MXIRT, INFO Finished to get initial item b in 0.008975 seconds\n",
      "MXIRT, INFO Starting to get initial item c\n",
      "MXIRT, INFO Finished to get initial item c in 0.019946 seconds\n",
      "MXIRT, INFO Finished to get initial user and item parameters in 0.059840 seconds\n",
      "d:\\env\\python3.8\\lib\\site-packages\\mxnet\\gluon\\parameter.py:893: UserWarning: Parameter 'irt12_theta_weight' is already initialized, ignoring. Set force_reinit=True to re-initialize.\n",
      "  v.initialize(None, ctx, init, force_reinit=force_reinit)\n",
      "d:\\env\\python3.8\\lib\\site-packages\\mxnet\\gluon\\parameter.py:893: UserWarning: Parameter 'irt12_b_weight' is already initialized, ignoring. Set force_reinit=True to re-initialize.\n",
      "  v.initialize(None, ctx, init, force_reinit=force_reinit)\n",
      "d:\\env\\python3.8\\lib\\site-packages\\mxnet\\gluon\\parameter.py:893: UserWarning: Parameter 'irt12_a_weight' is already initialized, ignoring. Set force_reinit=True to re-initialize.\n",
      "  v.initialize(None, ctx, init, force_reinit=force_reinit)\n",
      "d:\\env\\python3.8\\lib\\site-packages\\mxnet\\gluon\\parameter.py:893: UserWarning: Parameter 'irt12_c_weight' is already initialized, ignoring. Set force_reinit=True to re-initialize.\n",
      "  v.initialize(None, ctx, init, force_reinit=force_reinit)\n",
      "MXIRT, INFO writing configuration parameters to E:\\Program\\XCD\\data\\LSAT\\model\\configuration.json\n",
      "MXIRT, INFO start training\n",
      "MXIRT, INFO reset trainer\n",
      "MXIRT, INFO {'scheduler': 'CosineScheduler', 'base_lr': 0.01, 'step': 1, 'max_steps': 468, 'final_lr': 0, 'warmup_mode': 'linear', 'warmup_begin_lr': 0, 'warmup_steps': 0}\n",
      "evaluating: 100%|██████████| 6/6 [00:00<00:00, 539.43it/s]\n",
      "d:\\env\\python3.8\\lib\\site-packages\\sklearn\\metrics\\_classification.py:1221: UndefinedMetricWarning: Precision and F-score are ill-defined and being set to 0.0 in labels with no predicted samples. Use `zero_division` parameter to control this behavior.\n",
      "  _warn_prf(average, modifier, msg_start, len(result))\n",
      "evaluating: 100%|██████████| 6/6 [00:00<00:00, 462.81it/s]\n",
      "evaluating: 100%|██████████| 6/6 [00:00<00:00, 462.80it/s]\n",
      "evaluating: 100%|██████████| 6/6 [00:00<00:00, 501.33it/s]\n",
      "evaluating: 100%|██████████| 6/6 [00:00<00:00, 501.37it/s]\n",
      "evaluating: 100%|██████████| 6/6 [00:00<00:00, 462.82it/s]\n",
      "evaluating: 100%|██████████| 6/6 [00:00<00:00, 501.36it/s]\n",
      "evaluating: 100%|██████████| 6/6 [00:00<00:00, 462.81it/s]\n",
      "evaluating: 100%|██████████| 6/6 [00:00<00:00, 334.23it/s]\n",
      "evaluating: 100%|██████████| 6/6 [00:00<00:00, 501.36it/s]\n"
     ]
    },
    {
     "name": "stdout",
     "output_type": "stream",
     "text": [
      "Epoch| Total-E          Batch     Total-B       Loss-LogisticLoss             Progress           \n",
      "    0|       9             53          53                0.448159    [00:00<00:00, 175.39it/s]     \n",
      "Epoch [0]\tTrain Time-0.303s\tLoss - LogisticLoss: 0.448159\n",
      "           precision  recall        f1  support\n",
      "0.0         0.000000     0.0  0.000000       58\n",
      "1.0         0.845333     1.0  0.916185      317\n",
      "macro_avg   0.422667     0.5  0.458092      375\n",
      "accuracy: 0.845333\tmacro_auc: 0.660122\tmacro_aupoc: 0.913588\n",
      "Epoch| Total-E          Batch     Total-B       Loss-LogisticLoss             Progress           \n",
      "    1|       9             53          53                0.440803    [00:00<00:00, 176.55it/s]   \n",
      "Epoch [1]\tTrain Time-0.301s\tLoss - LogisticLoss: 0.440803\n",
      "           precision    recall        f1  support\n",
      "0.0         0.200000  0.017241  0.031746       58\n",
      "1.0         0.845946  0.987382  0.911208      317\n",
      "macro_avg   0.522973  0.502312  0.471477      375\n",
      "accuracy: 0.837333\tmacro_auc: 0.679539\tmacro_aupoc: 0.919320\n",
      "Epoch| Total-E          Batch     Total-B       Loss-LogisticLoss             Progress           \n",
      "    2|       9             53          53                0.438361    [00:00<00:00, 174.80it/s]   \n",
      "Epoch [2]\tTrain Time-0.303s\tLoss - LogisticLoss: 0.438361\n",
      "           precision    recall        f1  support\n",
      "0.0         0.166667  0.017241  0.031250       58\n",
      "1.0         0.845528  0.984227  0.909621      317\n",
      "macro_avg   0.506098  0.500734  0.470435      375\n",
      "accuracy: 0.834667\tmacro_auc: 0.677091\tmacro_aupoc: 0.917615\n",
      "Epoch| Total-E          Batch     Total-B       Loss-LogisticLoss             Progress           \n",
      "    3|       9             53          53                 0.43678    [00:00<00:00, 191.16it/s]   \n",
      "Epoch [3]\tTrain Time-0.277s\tLoss - LogisticLoss: 0.43678\n",
      "           precision    recall        f1  support\n",
      "0.0         0.142857  0.017241  0.030769       58\n",
      "1.0         0.845109  0.981073  0.908029      317\n",
      "macro_avg   0.493983  0.499157  0.469399      375\n",
      "accuracy: 0.832000\tmacro_auc: 0.672686\tmacro_aupoc: 0.916010\n",
      "Epoch| Total-E          Batch     Total-B       Loss-LogisticLoss             Progress           \n",
      "    4|       9             53          53                0.435581    [00:00<00:00, 185.81it/s]   \n",
      "Epoch [4]\tTrain Time-0.286s\tLoss - LogisticLoss: 0.435581\n",
      "           precision    recall        f1  support\n",
      "0.0         0.200000  0.034483  0.058824       58\n",
      "1.0         0.846575  0.974763  0.906158      317\n",
      "macro_avg   0.523288  0.504623  0.482491      375\n",
      "accuracy: 0.829333\tmacro_auc: 0.668226\tmacro_aupoc: 0.914373\n",
      "Epoch| Total-E          Batch     Total-B       Loss-LogisticLoss             Progress           \n",
      "    5|       9             53          53                0.434736    [00:00<00:00, 185.18it/s]   \n",
      "Epoch [5]\tTrain Time-0.287s\tLoss - LogisticLoss: 0.434736\n",
      "           precision    recall        f1  support\n",
      "0.0         0.230769  0.051724  0.084507       58\n",
      "1.0         0.848066  0.968454  0.904271      317\n",
      "macro_avg   0.539418  0.510089  0.494389      375\n",
      "accuracy: 0.826667\tmacro_auc: 0.667954\tmacro_aupoc: 0.914251\n",
      "Epoch| Total-E          Batch     Total-B       Loss-LogisticLoss             Progress           \n",
      "    6|       9             53          53                0.434191    [00:00<00:00, 186.46it/s]   \n",
      "Epoch [6]\tTrain Time-0.285s\tLoss - LogisticLoss: 0.434191\n",
      "           precision    recall        f1  support\n",
      "0.0         0.230769  0.051724  0.084507       58\n",
      "1.0         0.848066  0.968454  0.904271      317\n",
      "macro_avg   0.539418  0.510089  0.494389      375\n",
      "accuracy: 0.826667\tmacro_auc: 0.667628\tmacro_aupoc: 0.914144\n",
      "Epoch| Total-E          Batch     Total-B       Loss-LogisticLoss             Progress           \n",
      "    7|       9             53          53                 0.43388    [00:00<00:00, 180.14it/s]   \n",
      "Epoch [7]\tTrain Time-0.295s\tLoss - LogisticLoss: 0.43388\n",
      "           precision    recall        f1  support\n",
      "0.0         0.214286  0.051724  0.083333       58\n",
      "1.0         0.847645  0.965300  0.902655      317\n",
      "macro_avg   0.530966  0.508512  0.492994      375\n",
      "accuracy: 0.824000\tmacro_auc: 0.667301\tmacro_aupoc: 0.914274\n",
      "Epoch| Total-E          Batch     Total-B       Loss-LogisticLoss             Progress           \n",
      "    8|       9             53          53                0.433743    [00:00<00:00, 193.95it/s]   \n",
      "Epoch [8]\tTrain Time-0.273s\tLoss - LogisticLoss: 0.433743\n",
      "           precision    recall        f1  support\n",
      "0.0         0.214286  0.051724  0.083333       58\n",
      "1.0         0.847645  0.965300  0.902655      317\n",
      "macro_avg   0.530966  0.508512  0.492994      375\n",
      "accuracy: 0.824000\tmacro_auc: 0.667301\tmacro_aupoc: 0.914279\n",
      "Epoch| Total-E          Batch     Total-B       Loss-LogisticLoss             Progress           \n",
      "    9|       9             53          53                0.433709    [00:00<00:00, 190.13it/s]   \n",
      "Epoch [9]\tTrain Time-0.280s\tLoss - LogisticLoss: 0.433709\n",
      "           precision    recall        f1  support\n",
      "0.0         0.214286  0.051724  0.083333       58\n",
      "1.0         0.847645  0.965300  0.902655      317\n",
      "macro_avg   0.530966  0.508512  0.492994      375\n",
      "accuracy: 0.824000\tmacro_auc: 0.667247\tmacro_aupoc: 0.914266\n"
     ]
    }
   ],
   "source": [
    "irt = IRT.train(\n",
    "    \"../../../data/LSAT/train.csv\",\n",
    "    \"../../../data/LSAT/valid.csv\",\n",
    "    model_dir=\"../../../data/LSAT/model\",\n",
    "    hyper_params_update=dict(user_num=1000, item_num=5),\n",
    "    # init_params_update={\"initial_user_item\": False},\n",
    "    batch_size=64,\n",
    ")"
   ],
   "metadata": {
    "collapsed": false,
    "pycharm": {
     "name": "#%%\n"
    }
   }
  },
  {
   "cell_type": "code",
   "execution_count": 104,
   "outputs": [
    {
     "name": "stdout",
     "output_type": "stream",
     "text": [
      "             Epoch  macro_auc  macro_aupoc\n",
      "macro_auc        1   0.679539      0.91932\n",
      "macro_aupoc      1   0.679539      0.91932\n"
     ]
    }
   ],
   "source": [
    "# use longling to find best epoch\n",
    "!longling amax macro_auc macro_aupoc --src ../../../data/LSAT/model/result.json --with_keys \"Epoch;macro_auc;macro_aupoc\""
   ],
   "metadata": {
    "collapsed": false,
    "pycharm": {
     "name": "#%%\n"
    }
   }
  },
  {
   "cell_type": "code",
   "execution_count": 105,
   "outputs": [
    {
     "name": "stderr",
     "output_type": "stream",
     "text": [
      "MXIRT, INFO load params from existing model file ../../../data/LSAT/model\\MXIRT-0001.parmas\n"
     ]
    },
    {
     "name": "stdout",
     "output_type": "stream",
     "text": [
      "learning rate from ``lr_scheduler`` has been overwritten by ``learning_rate`` in optimizer.\n"
     ]
    },
    {
     "data": {
      "text/plain": "           user_id        theta\ncount  1000.000000  1000.000000\nmean    499.500000     0.847231\nstd     288.819436     0.362693\nmin       0.000000    -0.298079\n25%     249.750000     0.631132\n50%     499.500000     0.877015\n75%     749.250000     1.169003\nmax     999.000000     1.301321",
      "text/html": "<div>\n<style scoped>\n    .dataframe tbody tr th:only-of-type {\n        vertical-align: middle;\n    }\n\n    .dataframe tbody tr th {\n        vertical-align: top;\n    }\n\n    .dataframe thead th {\n        text-align: right;\n    }\n</style>\n<table border=\"1\" class=\"dataframe\">\n  <thead>\n    <tr style=\"text-align: right;\">\n      <th></th>\n      <th>user_id</th>\n      <th>theta</th>\n    </tr>\n  </thead>\n  <tbody>\n    <tr>\n      <th>count</th>\n      <td>1000.000000</td>\n      <td>1000.000000</td>\n    </tr>\n    <tr>\n      <th>mean</th>\n      <td>499.500000</td>\n      <td>0.847231</td>\n    </tr>\n    <tr>\n      <th>std</th>\n      <td>288.819436</td>\n      <td>0.362693</td>\n    </tr>\n    <tr>\n      <th>min</th>\n      <td>0.000000</td>\n      <td>-0.298079</td>\n    </tr>\n    <tr>\n      <th>25%</th>\n      <td>249.750000</td>\n      <td>0.631132</td>\n    </tr>\n    <tr>\n      <th>50%</th>\n      <td>499.500000</td>\n      <td>0.877015</td>\n    </tr>\n    <tr>\n      <th>75%</th>\n      <td>749.250000</td>\n      <td>1.169003</td>\n    </tr>\n    <tr>\n      <th>max</th>\n      <td>999.000000</td>\n      <td>1.301321</td>\n    </tr>\n  </tbody>\n</table>\n</div>"
     },
     "execution_count": 105,
     "metadata": {},
     "output_type": "execute_result"
    }
   ],
   "source": [
    "# switch to the best epoch\n",
    "irt.reload(1)\n",
    "# get user_params and item_params\n",
    "user_df, item_df = irt()\n",
    "item_df.describe()\n",
    "user_df.describe()"
   ],
   "metadata": {
    "collapsed": false,
    "pycharm": {
     "name": "#%%\n"
    }
   }
  },
  {
   "cell_type": "code",
   "execution_count": 106,
   "outputs": [
    {
     "data": {
      "text/plain": "   user_id     theta\n0        0 -0.163669\n1        1 -0.298079\n2        2 -0.203258\n3        3  0.285473\n4        4 -0.014447",
      "text/html": "<div>\n<style scoped>\n    .dataframe tbody tr th:only-of-type {\n        vertical-align: middle;\n    }\n\n    .dataframe tbody tr th {\n        vertical-align: top;\n    }\n\n    .dataframe thead th {\n        text-align: right;\n    }\n</style>\n<table border=\"1\" class=\"dataframe\">\n  <thead>\n    <tr style=\"text-align: right;\">\n      <th></th>\n      <th>user_id</th>\n      <th>theta</th>\n    </tr>\n  </thead>\n  <tbody>\n    <tr>\n      <th>0</th>\n      <td>0</td>\n      <td>-0.163669</td>\n    </tr>\n    <tr>\n      <th>1</th>\n      <td>1</td>\n      <td>-0.298079</td>\n    </tr>\n    <tr>\n      <th>2</th>\n      <td>2</td>\n      <td>-0.203258</td>\n    </tr>\n    <tr>\n      <th>3</th>\n      <td>3</td>\n      <td>0.285473</td>\n    </tr>\n    <tr>\n      <th>4</th>\n      <td>4</td>\n      <td>-0.014447</td>\n    </tr>\n  </tbody>\n</table>\n</div>"
     },
     "execution_count": 106,
     "metadata": {},
     "output_type": "execute_result"
    }
   ],
   "source": [
    "user_df.head()"
   ],
   "metadata": {
    "collapsed": false,
    "pycharm": {
     "name": "#%%\n"
    }
   }
  },
  {
   "cell_type": "code",
   "execution_count": 107,
   "outputs": [
    {
     "data": {
      "text/plain": "   item_id         a         b         c\n0        0  1.718022 -0.760082  0.400000\n1        1  1.709172 -0.323031  0.400000\n2        2  1.784342  0.203941  0.112781\n3        3  1.712841 -0.566244  0.400000\n4        4  1.668242 -0.634353  0.400000",
      "text/html": "<div>\n<style scoped>\n    .dataframe tbody tr th:only-of-type {\n        vertical-align: middle;\n    }\n\n    .dataframe tbody tr th {\n        vertical-align: top;\n    }\n\n    .dataframe thead th {\n        text-align: right;\n    }\n</style>\n<table border=\"1\" class=\"dataframe\">\n  <thead>\n    <tr style=\"text-align: right;\">\n      <th></th>\n      <th>item_id</th>\n      <th>a</th>\n      <th>b</th>\n      <th>c</th>\n    </tr>\n  </thead>\n  <tbody>\n    <tr>\n      <th>0</th>\n      <td>0</td>\n      <td>1.718022</td>\n      <td>-0.760082</td>\n      <td>0.400000</td>\n    </tr>\n    <tr>\n      <th>1</th>\n      <td>1</td>\n      <td>1.709172</td>\n      <td>-0.323031</td>\n      <td>0.400000</td>\n    </tr>\n    <tr>\n      <th>2</th>\n      <td>2</td>\n      <td>1.784342</td>\n      <td>0.203941</td>\n      <td>0.112781</td>\n    </tr>\n    <tr>\n      <th>3</th>\n      <td>3</td>\n      <td>1.712841</td>\n      <td>-0.566244</td>\n      <td>0.400000</td>\n    </tr>\n    <tr>\n      <th>4</th>\n      <td>4</td>\n      <td>1.668242</td>\n      <td>-0.634353</td>\n      <td>0.400000</td>\n    </tr>\n  </tbody>\n</table>\n</div>"
     },
     "execution_count": 107,
     "metadata": {},
     "output_type": "execute_result"
    }
   ],
   "source": [
    "item_df.head()"
   ],
   "metadata": {
    "collapsed": false,
    "pycharm": {
     "name": "#%%\n"
    }
   }
  },
  {
   "cell_type": "code",
   "execution_count": 108,
   "outputs": [
    {
     "data": {
      "text/plain": "   user_id  item_id  score\n0      478        3      1\n1      740        3      1\n2      467        0      1\n3      870        2      1\n4      918        4      1",
      "text/html": "<div>\n<style scoped>\n    .dataframe tbody tr th:only-of-type {\n        vertical-align: middle;\n    }\n\n    .dataframe tbody tr th {\n        vertical-align: top;\n    }\n\n    .dataframe thead th {\n        text-align: right;\n    }\n</style>\n<table border=\"1\" class=\"dataframe\">\n  <thead>\n    <tr style=\"text-align: right;\">\n      <th></th>\n      <th>user_id</th>\n      <th>item_id</th>\n      <th>score</th>\n    </tr>\n  </thead>\n  <tbody>\n    <tr>\n      <th>0</th>\n      <td>478</td>\n      <td>3</td>\n      <td>1</td>\n    </tr>\n    <tr>\n      <th>1</th>\n      <td>740</td>\n      <td>3</td>\n      <td>1</td>\n    </tr>\n    <tr>\n      <th>2</th>\n      <td>467</td>\n      <td>0</td>\n      <td>1</td>\n    </tr>\n    <tr>\n      <th>3</th>\n      <td>870</td>\n      <td>2</td>\n      <td>1</td>\n    </tr>\n    <tr>\n      <th>4</th>\n      <td>918</td>\n      <td>4</td>\n      <td>1</td>\n    </tr>\n  </tbody>\n</table>\n</div>"
     },
     "execution_count": 108,
     "metadata": {},
     "output_type": "execute_result"
    }
   ],
   "source": [
    "import pandas as pd\n",
    "test_df = pd.read_csv(\"../../../data/LSAT/test.csv\")\n",
    "test_df.head()"
   ],
   "metadata": {
    "collapsed": false,
    "pycharm": {
     "name": "#%%\n"
    }
   }
  },
  {
   "cell_type": "code",
   "execution_count": 109,
   "outputs": [
    {
     "name": "stdout",
     "output_type": "stream",
     "text": [
      "           precision    recall        f1  support\n",
      "0           0.333333  0.010830  0.020979      277\n",
      "1           0.779210  0.993834  0.873532      973\n",
      "macro_avg   0.556272  0.502332  0.447256     1250\n",
      "accuracy: 0.776000\tmacro_auc: 0.673990\tmacro_aupoc: 0.868745\n"
     ]
    }
   ],
   "source": [
    "from XCD.IRT.metrics import eval_irt\n",
    "\n",
    "eval_irt(test_df, user_df, item_df)\n"
   ],
   "metadata": {
    "collapsed": false,
    "pycharm": {
     "name": "#%%\n"
    }
   }
  }
 ],
 "metadata": {
  "kernelspec": {
   "display_name": "Python 3",
   "language": "python",
   "name": "python3"
  },
  "language_info": {
   "codemirror_mode": {
    "name": "ipython",
    "version": 2
   },
   "file_extension": ".py",
   "mimetype": "text/x-python",
   "name": "python",
   "nbconvert_exporter": "python",
   "pygments_lexer": "ipython2",
   "version": "2.7.6"
  }
 },
 "nbformat": 4,
 "nbformat_minor": 0
}