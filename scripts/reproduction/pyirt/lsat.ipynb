{
 "cells": [
  {
   "cell_type": "code",
   "execution_count": 1,
   "metadata": {
    "pycharm": {
     "name": "#%%\n"
    }
   },
   "outputs": [],
   "source": [
    "import pandas as pd\n",
    "from pyirt import irt"
   ]
  },
  {
   "cell_type": "code",
   "execution_count": 2,
   "metadata": {
    "pycharm": {
     "name": "#%%\n"
    }
   },
   "outputs": [
    {
     "data": {
      "text/html": [
       "<div>\n",
       "<style scoped>\n",
       "    .dataframe tbody tr th:only-of-type {\n",
       "        vertical-align: middle;\n",
       "    }\n",
       "\n",
       "    .dataframe tbody tr th {\n",
       "        vertical-align: top;\n",
       "    }\n",
       "\n",
       "    .dataframe thead th {\n",
       "        text-align: right;\n",
       "    }\n",
       "</style>\n",
       "<table border=\"1\" class=\"dataframe\">\n",
       "  <thead>\n",
       "    <tr style=\"text-align: right;\">\n",
       "      <th></th>\n",
       "      <th>user_id</th>\n",
       "      <th>item_id</th>\n",
       "      <th>score</th>\n",
       "    </tr>\n",
       "  </thead>\n",
       "  <tbody>\n",
       "    <tr>\n",
       "      <th>0</th>\n",
       "      <td>56</td>\n",
       "      <td>3</td>\n",
       "      <td>0</td>\n",
       "    </tr>\n",
       "    <tr>\n",
       "      <th>1</th>\n",
       "      <td>102</td>\n",
       "      <td>1</td>\n",
       "      <td>0</td>\n",
       "    </tr>\n",
       "    <tr>\n",
       "      <th>2</th>\n",
       "      <td>108</td>\n",
       "      <td>1</td>\n",
       "      <td>0</td>\n",
       "    </tr>\n",
       "    <tr>\n",
       "      <th>3</th>\n",
       "      <td>534</td>\n",
       "      <td>4</td>\n",
       "      <td>1</td>\n",
       "    </tr>\n",
       "    <tr>\n",
       "      <th>4</th>\n",
       "      <td>118</td>\n",
       "      <td>4</td>\n",
       "      <td>0</td>\n",
       "    </tr>\n",
       "  </tbody>\n",
       "</table>\n",
       "</div>"
      ],
      "text/plain": [
       "   user_id  item_id  score\n",
       "0       56        3      0\n",
       "1      102        1      0\n",
       "2      108        1      0\n",
       "3      534        4      1\n",
       "4      118        4      0"
      ]
     },
     "execution_count": 2,
     "metadata": {},
     "output_type": "execute_result"
    }
   ],
   "source": [
    "train_df = pd.read_csv(\"../../../data/LSAT/train.csv\")\n",
    "train_df.head()"
   ]
  },
  {
   "cell_type": "code",
   "execution_count": 3,
   "metadata": {
    "pycharm": {
     "name": "#%%\n"
    }
   },
   "outputs": [
    {
     "name": "stderr",
     "output_type": "stream",
     "text": [
      "2020-11-23 22:46:01 INFO: start loading data\n",
      "start loading data\n",
      "2020-11-23 22:46:01 INFO: data loaded\n",
      "data loaded\n",
      "100%|██████████| 997/997 [00:00<00:00, 4417.73it/s]\n",
      "100%|██████████| 5/5 [00:00<00:00, 846.65it/s]\n",
      "2020-11-23 22:46:01 DEBUG: E step runs for 641.593 sec\n",
      "E step runs for 641.593 sec\n",
      "100%|██████████| 5/5 [00:00<00:00, 99.92it/s]\n",
      "2020-11-23 22:46:02 DEBUG: M step runs for 140.445 sec\n",
      "M step runs for 140.445 sec\n",
      "2020-11-23 22:46:02 DEBUG: score calculating\n",
      "score calculating\n",
      "100%|██████████| 997/997 [00:00<00:00, 59346.34it/s]\n",
      "2020-11-23 22:46:02 DEBUG: score calculated.\n",
      "score calculated.\n",
      "2020-11-23 22:46:02 DEBUG: 0.658640539892258\n",
      "0.658640539892258\n",
      "2020-11-23 22:46:02 DEBUG: stop condition runs for 155.452 sec\n",
      "stop condition runs for 155.452 sec\n",
      "100%|██████████| 997/997 [00:00<00:00, 4306.43it/s]\n",
      "100%|██████████| 5/5 [00:00<00:00, 832.04it/s]\n",
      "2020-11-23 22:46:02 DEBUG: E step runs for 636.03 sec\n",
      "E step runs for 636.03 sec\n",
      "100%|██████████| 5/5 [00:00<00:00, 254.46it/s]\n",
      "2020-11-23 22:46:03 DEBUG: M step runs for 140.149 sec\n",
      "M step runs for 140.149 sec\n",
      "2020-11-23 22:46:03 DEBUG: score calculating\n",
      "score calculating\n",
      "100%|██████████| 997/997 [00:00<00:00, 57043.95it/s]\n",
      "2020-11-23 22:46:03 DEBUG: score calculated.\n",
      "score calculated.\n",
      "2020-11-23 22:46:03 DEBUG: 0.6563358874887625\n",
      "0.6563358874887625\n",
      "2020-11-23 22:46:03 INFO: Likelihood descrease, stops at iteration 2.\n",
      "Likelihood descrease, stops at iteration 2.\n",
      "2020-11-23 22:46:03 DEBUG: stop condition runs for 126.524 sec\n",
      "stop condition runs for 126.524 sec\n",
      "2020-11-23 22:46:03 INFO: parameter estimated\n",
      "parameter estimated\n",
      "2020-11-23 22:46:03 INFO: parameter retrieved\n",
      "parameter retrieved\n"
     ]
    }
   ],
   "source": [
    "item_param, user_param = irt(train_df.values.tolist(), max_iter=10)\n",
    "\n",
    "item_df = pd.DataFrame.from_dict(item_param, orient=\"index\")\n",
    "item_df.reset_index(inplace=True)\n",
    "item_df.rename(columns={\"beta\": \"b\", \"alpha\": \"a\", \"index\": \"item_id\"}, inplace=True)\n",
    "user_df = pd.DataFrame(list(user_param.items()), columns=[\"user_id\", \"theta\"])"
   ]
  },
  {
   "cell_type": "code",
   "execution_count": 4,
   "metadata": {
    "pycharm": {
     "name": "#%%\n"
    }
   },
   "outputs": [
    {
     "data": {
      "text/html": [
       "<div>\n",
       "<style scoped>\n",
       "    .dataframe tbody tr th:only-of-type {\n",
       "        vertical-align: middle;\n",
       "    }\n",
       "\n",
       "    .dataframe tbody tr th {\n",
       "        vertical-align: top;\n",
       "    }\n",
       "\n",
       "    .dataframe thead th {\n",
       "        text-align: right;\n",
       "    }\n",
       "</style>\n",
       "<table border=\"1\" class=\"dataframe\">\n",
       "  <thead>\n",
       "    <tr style=\"text-align: right;\">\n",
       "      <th></th>\n",
       "      <th>user_id</th>\n",
       "      <th>theta</th>\n",
       "    </tr>\n",
       "  </thead>\n",
       "  <tbody>\n",
       "    <tr>\n",
       "      <th>count</th>\n",
       "      <td>997.000000</td>\n",
       "      <td>997.000000</td>\n",
       "    </tr>\n",
       "    <tr>\n",
       "      <th>mean</th>\n",
       "      <td>499.180542</td>\n",
       "      <td>0.490889</td>\n",
       "    </tr>\n",
       "    <tr>\n",
       "      <th>std</th>\n",
       "      <td>288.904873</td>\n",
       "      <td>0.469135</td>\n",
       "    </tr>\n",
       "    <tr>\n",
       "      <th>min</th>\n",
       "      <td>0.000000</td>\n",
       "      <td>-1.378206</td>\n",
       "    </tr>\n",
       "    <tr>\n",
       "      <th>25%</th>\n",
       "      <td>249.000000</td>\n",
       "      <td>0.169361</td>\n",
       "    </tr>\n",
       "    <tr>\n",
       "      <th>50%</th>\n",
       "      <td>499.000000</td>\n",
       "      <td>0.534217</td>\n",
       "    </tr>\n",
       "    <tr>\n",
       "      <th>75%</th>\n",
       "      <td>749.000000</td>\n",
       "      <td>0.890450</td>\n",
       "    </tr>\n",
       "    <tr>\n",
       "      <th>max</th>\n",
       "      <td>999.000000</td>\n",
       "      <td>1.136290</td>\n",
       "    </tr>\n",
       "  </tbody>\n",
       "</table>\n",
       "</div>"
      ],
      "text/plain": [
       "          user_id       theta\n",
       "count  997.000000  997.000000\n",
       "mean   499.180542    0.490889\n",
       "std    288.904873    0.469135\n",
       "min      0.000000   -1.378206\n",
       "25%    249.000000    0.169361\n",
       "50%    499.000000    0.534217\n",
       "75%    749.000000    0.890450\n",
       "max    999.000000    1.136290"
      ]
     },
     "execution_count": 4,
     "metadata": {},
     "output_type": "execute_result"
    }
   ],
   "source": [
    "item_df.describe()\n",
    "user_df.describe()"
   ]
  },
  {
   "cell_type": "code",
   "execution_count": 6,
   "metadata": {
    "pycharm": {
     "name": "#%%\n"
    }
   },
   "outputs": [
    {
     "data": {
      "text/html": [
       "<div>\n",
       "<style scoped>\n",
       "    .dataframe tbody tr th:only-of-type {\n",
       "        vertical-align: middle;\n",
       "    }\n",
       "\n",
       "    .dataframe tbody tr th {\n",
       "        vertical-align: top;\n",
       "    }\n",
       "\n",
       "    .dataframe thead th {\n",
       "        text-align: right;\n",
       "    }\n",
       "</style>\n",
       "<table border=\"1\" class=\"dataframe\">\n",
       "  <thead>\n",
       "    <tr style=\"text-align: right;\">\n",
       "      <th></th>\n",
       "      <th>user_id</th>\n",
       "      <th>item_id</th>\n",
       "      <th>score</th>\n",
       "    </tr>\n",
       "  </thead>\n",
       "  <tbody>\n",
       "    <tr>\n",
       "      <th>0</th>\n",
       "      <td>478</td>\n",
       "      <td>3</td>\n",
       "      <td>1</td>\n",
       "    </tr>\n",
       "    <tr>\n",
       "      <th>1</th>\n",
       "      <td>740</td>\n",
       "      <td>3</td>\n",
       "      <td>1</td>\n",
       "    </tr>\n",
       "    <tr>\n",
       "      <th>2</th>\n",
       "      <td>467</td>\n",
       "      <td>0</td>\n",
       "      <td>1</td>\n",
       "    </tr>\n",
       "    <tr>\n",
       "      <th>3</th>\n",
       "      <td>870</td>\n",
       "      <td>2</td>\n",
       "      <td>1</td>\n",
       "    </tr>\n",
       "    <tr>\n",
       "      <th>4</th>\n",
       "      <td>918</td>\n",
       "      <td>4</td>\n",
       "      <td>1</td>\n",
       "    </tr>\n",
       "  </tbody>\n",
       "</table>\n",
       "</div>"
      ],
      "text/plain": [
       "   user_id  item_id  score\n",
       "0      478        3      1\n",
       "1      740        3      1\n",
       "2      467        0      1\n",
       "3      870        2      1\n",
       "4      918        4      1"
      ]
     },
     "execution_count": 6,
     "metadata": {},
     "output_type": "execute_result"
    }
   ],
   "source": [
    "test_df = pd.read_csv(\"../../../data/LSAT/test.csv\")\n",
    "test_df.head()"
   ]
  },
  {
   "cell_type": "code",
   "execution_count": 7,
   "metadata": {
    "pycharm": {
     "name": "#%%\n"
    }
   },
   "outputs": [
    {
     "name": "stderr",
     "output_type": "stream",
     "text": [
      "2020-11-23 22:50:32 INFO: evaluate support,f1,recall,accuracy,precision\n",
      "evaluate support,f1,recall,accuracy,precision\n",
      "2020-11-23 22:50:32 INFO: evaluate auc\n",
      "evaluate auc\n",
      "2020-11-23 22:50:32 INFO: evaluate aupoc\n",
      "evaluate aupoc\n",
      "2020-11-23 22:50:32 INFO: sorting metrics\n",
      "sorting metrics\n"
     ]
    },
    {
     "name": "stdout",
     "output_type": "stream",
     "text": [
      "           precision    recall        f1  support\n",
      "0           0.164384  0.481752  0.245125      274\n",
      "1           0.672811  0.303219  0.418039      963\n",
      "macro_avg   0.418597  0.392485  0.331582     1237\n",
      "accuracy: 0.342765\tmacro_auc: 0.335865\tmacro_aupoc: 0.705283\n"
     ]
    }
   ],
   "source": [
    "from XCD.IRT.metrics import eval_irt\n",
    "eval_irt(test_df, user_df, item_df)"
   ]
  }
 ],
 "metadata": {
  "kernelspec": {
   "display_name": "Python 3",
   "language": "python",
   "name": "python3"
  },
  "language_info": {
   "codemirror_mode": {
    "name": "ipython",
    "version": 3
   },
   "file_extension": ".py",
   "mimetype": "text/x-python",
   "name": "python",
   "nbconvert_exporter": "python",
   "pygments_lexer": "ipython3",
   "version": "3.6.11"
  }
 },
 "nbformat": 4,
 "nbformat_minor": 1
}