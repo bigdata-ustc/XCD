{
 "cells": [
  {
   "cell_type": "code",
   "execution_count": 1,
   "metadata": {
    "pycharm": {
     "name": "#%%\n"
    }
   },
   "outputs": [],
   "source": [
    "import pandas as pd\n",
    "from pyirt import irt"
   ]
  },
  {
   "cell_type": "code",
   "execution_count": 2,
   "metadata": {
    "pycharm": {
     "name": "#%%\n"
    }
   },
   "outputs": [
    {
     "data": {
      "text/html": [
       "<div>\n",
       "<style scoped>\n",
       "    .dataframe tbody tr th:only-of-type {\n",
       "        vertical-align: middle;\n",
       "    }\n",
       "\n",
       "    .dataframe tbody tr th {\n",
       "        vertical-align: top;\n",
       "    }\n",
       "\n",
       "    .dataframe thead th {\n",
       "        text-align: right;\n",
       "    }\n",
       "</style>\n",
       "<table border=\"1\" class=\"dataframe\">\n",
       "  <thead>\n",
       "    <tr style=\"text-align: right;\">\n",
       "      <th></th>\n",
       "      <th>user_id</th>\n",
       "      <th>item_id</th>\n",
       "      <th>score</th>\n",
       "    </tr>\n",
       "  </thead>\n",
       "  <tbody>\n",
       "    <tr>\n",
       "      <th>0</th>\n",
       "      <td>1615</td>\n",
       "      <td>12977</td>\n",
       "      <td>1</td>\n",
       "    </tr>\n",
       "    <tr>\n",
       "      <th>1</th>\n",
       "      <td>782</td>\n",
       "      <td>13124</td>\n",
       "      <td>0</td>\n",
       "    </tr>\n",
       "    <tr>\n",
       "      <th>2</th>\n",
       "      <td>1084</td>\n",
       "      <td>16475</td>\n",
       "      <td>0</td>\n",
       "    </tr>\n",
       "    <tr>\n",
       "      <th>3</th>\n",
       "      <td>593</td>\n",
       "      <td>8690</td>\n",
       "      <td>0</td>\n",
       "    </tr>\n",
       "    <tr>\n",
       "      <th>4</th>\n",
       "      <td>127</td>\n",
       "      <td>14225</td>\n",
       "      <td>1</td>\n",
       "    </tr>\n",
       "  </tbody>\n",
       "</table>\n",
       "</div>"
      ],
      "text/plain": [
       "   user_id  item_id  score\n",
       "0     1615    12977      1\n",
       "1      782    13124      0\n",
       "2     1084    16475      0\n",
       "3      593     8690      0\n",
       "4      127    14225      1"
      ]
     },
     "execution_count": 2,
     "metadata": {},
     "output_type": "execute_result"
    }
   ],
   "source": [
    "train_df = pd.read_csv(\"../../../data/a0910/train.csv\")\n",
    "train_df.head()"
   ]
  },
  {
   "cell_type": "code",
   "execution_count": 3,
   "metadata": {
    "pycharm": {
     "name": "#%%\n"
    }
   },
   "outputs": [
    {
     "name": "stderr",
     "output_type": "stream",
     "text": [
      "2020-11-23 22:49:47 INFO: start loading data\n",
      "start loading data\n",
      "2020-11-23 22:49:47 INFO: data loaded\n",
      "data loaded\n",
      "100%|██████████| 2493/2493 [00:02<00:00, 1053.05it/s]\n",
      "100%|██████████| 17051/17051 [00:03<00:00, 5183.46it/s]\n",
      "2020-11-23 22:49:57 DEBUG: E step runs for 891.847 sec\n",
      "E step runs for 891.847 sec\n",
      "100%|██████████| 17051/17051 [00:33<00:00, 504.87it/s]\n",
      "2020-11-23 22:50:34 DEBUG: M step runs for 179.575 sec\n",
      "M step runs for 179.575 sec\n",
      "2020-11-23 22:50:34 DEBUG: score calculating\n",
      "score calculating\n",
      "100%|██████████| 2493/2493 [00:00<00:00, 8288.70it/s]\n",
      "2020-11-23 22:50:35 DEBUG: score calculated.\n",
      "score calculated.\n",
      "2020-11-23 22:50:35 DEBUG: 0.6436643588140959\n",
      "0.6436643588140959\n",
      "2020-11-23 22:50:35 DEBUG: stop condition runs for 701.766 sec\n",
      "stop condition runs for 701.766 sec\n",
      "100%|██████████| 2493/2493 [00:02<00:00, 941.53it/s] \n",
      "100%|██████████| 17051/17051 [00:03<00:00, 5256.51it/s]\n",
      "2020-11-23 22:50:45 DEBUG: E step runs for 144.456 sec\n",
      "E step runs for 144.456 sec\n",
      "100%|██████████| 17051/17051 [00:23<00:00, 717.94it/s] \n",
      "2020-11-23 22:51:12 DEBUG: M step runs for 230.312 sec\n",
      "M step runs for 230.312 sec\n",
      "2020-11-23 22:51:12 DEBUG: score calculating\n",
      "score calculating\n",
      "100%|██████████| 2493/2493 [00:00<00:00, 9126.62it/s]\n",
      "2020-11-23 22:51:13 DEBUG: score calculated.\n",
      "score calculated.\n",
      "2020-11-23 22:51:13 DEBUG: 0.6500246003686612\n",
      "0.6500246003686612\n",
      "2020-11-23 22:51:13 DEBUG: stop condition runs for 615.236 sec\n",
      "stop condition runs for 615.236 sec\n",
      "100%|██████████| 2493/2493 [00:02<00:00, 973.73it/s] \n",
      "100%|██████████| 17051/17051 [00:03<00:00, 5160.46it/s]\n",
      "2020-11-23 22:51:23 DEBUG: E step runs for 98.603 sec\n",
      "E step runs for 98.603 sec\n",
      "100%|██████████| 17051/17051 [00:22<00:00, 764.35it/s] \n",
      "2020-11-23 22:51:49 DEBUG: M step runs for 630.373 sec\n",
      "M step runs for 630.373 sec\n",
      "2020-11-23 22:51:49 DEBUG: score calculating\n",
      "score calculating\n",
      "100%|██████████| 2493/2493 [00:00<00:00, 8892.25it/s]\n",
      "2020-11-23 22:51:49 DEBUG: score calculated.\n",
      "score calculated.\n",
      "2020-11-23 22:51:49 DEBUG: 0.6520980526981082\n",
      "0.6520980526981082\n",
      "2020-11-23 22:51:49 DEBUG: stop condition runs for 704.819 sec\n",
      "stop condition runs for 704.819 sec\n",
      "100%|██████████| 2493/2493 [00:02<00:00, 930.11it/s] \n",
      "100%|██████████| 17051/17051 [00:03<00:00, 5133.32it/s]\n",
      "2020-11-23 22:52:00 DEBUG: E step runs for 307.74 sec\n",
      "E step runs for 307.74 sec\n",
      "100%|██████████| 17051/17051 [00:21<00:00, 781.63it/s] \n",
      "2020-11-23 22:52:25 DEBUG: M step runs for 324.117 sec\n",
      "M step runs for 324.117 sec\n",
      "2020-11-23 22:52:25 DEBUG: score calculating\n",
      "score calculating\n",
      "100%|██████████| 2493/2493 [00:00<00:00, 8805.41it/s]\n",
      "2020-11-23 22:52:25 DEBUG: score calculated.\n",
      "score calculated.\n",
      "2020-11-23 22:52:25 DEBUG: 0.6534693635400592\n",
      "0.6534693635400592\n",
      "2020-11-23 22:52:26 DEBUG: stop condition runs for 706.003 sec\n",
      "stop condition runs for 706.003 sec\n",
      "100%|██████████| 2493/2493 [00:02<00:00, 961.29it/s] \n",
      "100%|██████████| 17051/17051 [00:03<00:00, 5170.36it/s]\n",
      "2020-11-23 22:52:36 DEBUG: E step runs for 300.332 sec\n",
      "E step runs for 300.332 sec\n",
      "100%|██████████| 17051/17051 [00:21<00:00, 790.63it/s] \n",
      "2020-11-23 22:53:01 DEBUG: M step runs for 23.882 sec\n",
      "M step runs for 23.882 sec\n",
      "2020-11-23 22:53:01 DEBUG: score calculating\n",
      "score calculating\n",
      "100%|██████████| 2493/2493 [00:00<00:00, 8665.94it/s]\n",
      "2020-11-23 22:53:01 DEBUG: score calculated.\n",
      "score calculated.\n",
      "2020-11-23 22:53:01 DEBUG: 0.6544406703143182\n",
      "0.6544406703143182\n",
      "2020-11-23 22:53:01 INFO: EM converged at iteration 5.\n",
      "EM converged at iteration 5.\n",
      "2020-11-23 22:53:01 DEBUG: stop condition runs for 436.694 sec\n",
      "stop condition runs for 436.694 sec\n",
      "2020-11-23 22:53:01 INFO: parameter estimated\n",
      "parameter estimated\n",
      "2020-11-23 22:53:01 INFO: parameter retrieved\n",
      "parameter retrieved\n"
     ]
    }
   ],
   "source": [
    "item_param, user_param = irt(train_df.values.tolist(), max_iter=10)\n",
    "\n",
    "item_df = pd.DataFrame.from_dict(item_param, orient=\"index\")\n",
    "item_df.reset_index(inplace=True)\n",
    "item_df.rename(columns={\"beta\": \"b\", \"alpha\": \"a\", \"index\": \"item_id\"}, inplace=True)\n",
    "user_df = pd.DataFrame(list(user_param.items()), columns=[\"user_id\", \"theta\"])"
   ]
  },
  {
   "cell_type": "code",
   "execution_count": 4,
   "metadata": {
    "pycharm": {
     "name": "#%%\n"
    }
   },
   "outputs": [
    {
     "data": {
      "text/html": [
       "<div>\n",
       "<style scoped>\n",
       "    .dataframe tbody tr th:only-of-type {\n",
       "        vertical-align: middle;\n",
       "    }\n",
       "\n",
       "    .dataframe tbody tr th {\n",
       "        vertical-align: top;\n",
       "    }\n",
       "\n",
       "    .dataframe thead th {\n",
       "        text-align: right;\n",
       "    }\n",
       "</style>\n",
       "<table border=\"1\" class=\"dataframe\">\n",
       "  <thead>\n",
       "    <tr style=\"text-align: right;\">\n",
       "      <th></th>\n",
       "      <th>user_id</th>\n",
       "      <th>theta</th>\n",
       "    </tr>\n",
       "  </thead>\n",
       "  <tbody>\n",
       "    <tr>\n",
       "      <th>count</th>\n",
       "      <td>2493.000000</td>\n",
       "      <td>2493.000000</td>\n",
       "    </tr>\n",
       "    <tr>\n",
       "      <th>mean</th>\n",
       "      <td>1752.210991</td>\n",
       "      <td>0.422139</td>\n",
       "    </tr>\n",
       "    <tr>\n",
       "      <th>std</th>\n",
       "      <td>1137.389476</td>\n",
       "      <td>1.202030</td>\n",
       "    </tr>\n",
       "    <tr>\n",
       "      <th>min</th>\n",
       "      <td>1.000000</td>\n",
       "      <td>-3.992516</td>\n",
       "    </tr>\n",
       "    <tr>\n",
       "      <th>25%</th>\n",
       "      <td>741.000000</td>\n",
       "      <td>-0.025348</td>\n",
       "    </tr>\n",
       "    <tr>\n",
       "      <th>50%</th>\n",
       "      <td>1587.000000</td>\n",
       "      <td>0.715731</td>\n",
       "    </tr>\n",
       "    <tr>\n",
       "      <th>75%</th>\n",
       "      <td>2648.000000</td>\n",
       "      <td>1.204007</td>\n",
       "    </tr>\n",
       "    <tr>\n",
       "      <th>max</th>\n",
       "      <td>4128.000000</td>\n",
       "      <td>3.252738</td>\n",
       "    </tr>\n",
       "  </tbody>\n",
       "</table>\n",
       "</div>"
      ],
      "text/plain": [
       "           user_id        theta\n",
       "count  2493.000000  2493.000000\n",
       "mean   1752.210991     0.422139\n",
       "std    1137.389476     1.202030\n",
       "min       1.000000    -3.992516\n",
       "25%     741.000000    -0.025348\n",
       "50%    1587.000000     0.715731\n",
       "75%    2648.000000     1.204007\n",
       "max    4128.000000     3.252738"
      ]
     },
     "execution_count": 4,
     "metadata": {},
     "output_type": "execute_result"
    }
   ],
   "source": [
    "item_df.describe()\n",
    "user_df.describe()"
   ]
  },
  {
   "cell_type": "code",
   "execution_count": 6,
   "metadata": {
    "pycharm": {
     "name": "#%%\n"
    }
   },
   "outputs": [
    {
     "data": {
      "text/html": [
       "<div>\n",
       "<style scoped>\n",
       "    .dataframe tbody tr th:only-of-type {\n",
       "        vertical-align: middle;\n",
       "    }\n",
       "\n",
       "    .dataframe tbody tr th {\n",
       "        vertical-align: top;\n",
       "    }\n",
       "\n",
       "    .dataframe thead th {\n",
       "        text-align: right;\n",
       "    }\n",
       "</style>\n",
       "<table border=\"1\" class=\"dataframe\">\n",
       "  <thead>\n",
       "    <tr style=\"text-align: right;\">\n",
       "      <th></th>\n",
       "      <th>user_id</th>\n",
       "      <th>item_id</th>\n",
       "      <th>score</th>\n",
       "    </tr>\n",
       "  </thead>\n",
       "  <tbody>\n",
       "    <tr>\n",
       "      <th>0</th>\n",
       "      <td>1</td>\n",
       "      <td>4999</td>\n",
       "      <td>1.0</td>\n",
       "    </tr>\n",
       "    <tr>\n",
       "      <th>1</th>\n",
       "      <td>1</td>\n",
       "      <td>6787</td>\n",
       "      <td>1.0</td>\n",
       "    </tr>\n",
       "    <tr>\n",
       "      <th>2</th>\n",
       "      <td>1</td>\n",
       "      <td>14337</td>\n",
       "      <td>1.0</td>\n",
       "    </tr>\n",
       "    <tr>\n",
       "      <th>3</th>\n",
       "      <td>1</td>\n",
       "      <td>4994</td>\n",
       "      <td>1.0</td>\n",
       "    </tr>\n",
       "    <tr>\n",
       "      <th>4</th>\n",
       "      <td>1</td>\n",
       "      <td>16469</td>\n",
       "      <td>1.0</td>\n",
       "    </tr>\n",
       "  </tbody>\n",
       "</table>\n",
       "</div>"
      ],
      "text/plain": [
       "   user_id  item_id  score\n",
       "0        1     4999    1.0\n",
       "1        1     6787    1.0\n",
       "2        1    14337    1.0\n",
       "3        1     4994    1.0\n",
       "4        1    16469    1.0"
      ]
     },
     "execution_count": 6,
     "metadata": {},
     "output_type": "execute_result"
    }
   ],
   "source": [
    "test_df = pd.read_csv(\"../../../data/a0910/test.csv\")\n",
    "test_df.head()"
   ]
  },
  {
   "cell_type": "code",
   "execution_count": 7,
   "metadata": {
    "pycharm": {
     "name": "#%%\n"
    }
   },
   "outputs": [
    {
     "name": "stderr",
     "output_type": "stream",
     "text": [
      "2020-11-23 22:55:20 INFO: evaluate precision,f1,recall,accuracy,support\n",
      "evaluate precision,f1,recall,accuracy,support\n",
      "2020-11-23 22:55:21 INFO: evaluate auc\n",
      "evaluate auc\n",
      "2020-11-23 22:55:21 INFO: evaluate aupoc\n",
      "evaluate aupoc\n",
      "2020-11-23 22:55:21 INFO: sorting metrics\n",
      "sorting metrics\n"
     ]
    },
    {
     "name": "stdout",
     "output_type": "stream",
     "text": [
      "           precision    recall        f1  support\n",
      "0.0         0.330607  0.343277  0.336823    19075\n",
      "1.0         0.646220  0.633149  0.639618    36140\n",
      "macro_avg   0.488413  0.488213  0.488220    55215\n",
      "accuracy: 0.533007\tmacro_auc: 0.501737\tmacro_aupoc: 0.674690\n"
     ]
    }
   ],
   "source": [
    "from XCD.IRT.metrics import eval_irt\n",
    "eval_irt(test_df, user_df, item_df)"
   ]
  }
 ],
 "metadata": {
  "kernelspec": {
   "display_name": "Python 3",
   "language": "python",
   "name": "python3"
  },
  "language_info": {
   "codemirror_mode": {
    "name": "ipython",
    "version": 3
   },
   "file_extension": ".py",
   "mimetype": "text/x-python",
   "name": "python",
   "nbconvert_exporter": "python",
   "pygments_lexer": "ipython3",
   "version": "3.6.11"
  }
 },
 "nbformat": 4,
 "nbformat_minor": 1
}