{
 "cells": [
  {
   "cell_type": "code",
   "execution_count": 1,
   "metadata": {
    "collapsed": true
   },
   "outputs": [
    {
     "name": "stdout",
     "output_type": "stream",
     "text": [
      "logger: <Logger IRT (INFO)>\n",
      "model_name: IRT\n",
      "root: G:\\program\\XCD\n",
      "dataset: a0910\n",
      "timestamp: 20201117204012\n",
      "workspace: init\n",
      "root_data_dir: G:\\program\\XCD\\data\\a0910\n",
      "data_dir: G:\\program\\XCD\\data\\a0910\\data\n",
      "root_model_dir: G:\\program\\XCD\\data\\a0910\\model\\IRT\n",
      "model_dir: G:\\program\\XCD\\data\\a0910\\model\\IRT\\init\n",
      "cfg_path: G:\\program\\XCD\\data\\a0910\\model\\IRT\\init\\configuration.json\n",
      "begin_epoch: 0\n",
      "end_epoch: 10\n",
      "batch_size: 256\n",
      "save_epoch: 1\n",
      "optimizer: Adam\n",
      "optimizer_params: {'learning_rate': 0.01, 'clip_gradient': 1}\n",
      "lr_params: {'update_params': {}}\n",
      "train_select: None\n",
      "save_select: None\n",
      "ctx: [cpu(0)]\n",
      "toolbox_params: {}\n",
      "hyper_params: {'user_num': 4163, 'item_num': 17746, 'theta_range': [-4, 4], 'a_range': [0.25, 2], 'b_range': [-2, 2], 'c_range': [0, 0.4]}\n",
      "init_params: {}\n",
      "loss_params: {}\n",
      "caption: \n",
      "validation_result_file: G:\\program\\XCD\\data\\a0910\\model\\IRT\\init\\result.json\n"
     ]
    }
   ],
   "source": [
    "from configuration import Configuration\n",
    "\n",
    "cfg = Configuration.load(\n",
    "    \"../../../../../data/a0910/model/IRT/init/configuration.json\"\n",
    ")\n",
    "print(cfg)"
   ]
  },
  {
   "cell_type": "code",
   "execution_count": 2,
   "outputs": [
    {
     "data": {
      "text/plain": "IRT(\n  (theta): Embedding(4163 -> 1, float32)\n  (b): Embedding(17746 -> 1, float32)\n  (a): Embedding(17746 -> 1, float32)\n  (c): Embedding(17746 -> 1, float32)\n)"
     },
     "execution_count": 2,
     "metadata": {},
     "output_type": "execute_result"
    }
   ],
   "source": [
    "from sym import get_net\n",
    "\n",
    "net = get_net(**cfg.hyper_params)\n",
    "net"
   ],
   "metadata": {
    "collapsed": false,
    "pycharm": {
     "name": "#%%\n"
    }
   }
  },
  {
   "cell_type": "code",
   "execution_count": 3,
   "outputs": [
    {
     "name": "stderr",
     "output_type": "stream",
     "text": [
      "IRT, INFO load params from existing model file G:\\program\\XCD\\data\\a0910\\model\\IRT\\init\\IRT-0002.parmas\n"
     ]
    }
   ],
   "source": [
    "from longling.ML import get_epoch_params_filepath\n",
    "from sym import net_init\n",
    "\n",
    "epoch = 2\n",
    "model_file = get_epoch_params_filepath(cfg.model_name, epoch, cfg.model_dir)\n",
    "net_init(net, cfg, model_file=model_file, logger=cfg.logger)"
   ],
   "metadata": {
    "collapsed": false,
    "pycharm": {
     "name": "#%%\n"
    }
   }
  },
  {
   "cell_type": "code",
   "execution_count": 4,
   "outputs": [
    {
     "name": "stderr",
     "output_type": "stream",
     "text": [
      "IRT, INFO Starting to loading data from G:\\program\\XCD\\data\\a0910\\data\\test.csv\n",
      "IRT, INFO Finished to loading data from G:\\program\\XCD\\data\\a0910\\data\\test.csv in 0.018976 seconds\n",
      "evaluating: 100%|██████████| 218/218 [00:00<00:00, 258.02it/s]\n"
     ]
    },
    {
     "name": "stdout",
     "output_type": "stream",
     "text": [
      "           precision    recall        f1  support\n",
      "0.0         0.817368  0.156265  0.262369    19275\n",
      "1.0         0.687700  0.981554  0.808762    36485\n",
      "macro_avg   0.752534  0.568909  0.535566    55760\n",
      "accuracy: 0.696270\tmacro_auc: 0.739607\tmacro_aupoc: 0.826107\n"
     ]
    }
   ],
   "source": [
    "from longling import path_append\n",
    "from longling.ML.toolkit import result_format\n",
    "from etl import etl\n",
    "from sym import eval_f\n",
    "\n",
    "test, test_df = etl(path_append(cfg.data_dir, \"test.csv\", to_str=True), params=cfg)\n",
    "print(result_format(eval_f(net, test)))"
   ],
   "metadata": {
    "collapsed": false,
    "pycharm": {
     "name": "#%%\n"
    }
   }
  },
  {
   "cell_type": "code",
   "execution_count": 5,
   "outputs": [
    {
     "data": {
      "text/plain": "   user_id     theta\n0        0  0.616657\n1        1  3.742713\n2        2  0.880027\n3        3  2.513194\n4        4  1.953740",
      "text/html": "<div>\n<style scoped>\n    .dataframe tbody tr th:only-of-type {\n        vertical-align: middle;\n    }\n\n    .dataframe tbody tr th {\n        vertical-align: top;\n    }\n\n    .dataframe thead th {\n        text-align: right;\n    }\n</style>\n<table border=\"1\" class=\"dataframe\">\n  <thead>\n    <tr style=\"text-align: right;\">\n      <th></th>\n      <th>user_id</th>\n      <th>theta</th>\n    </tr>\n  </thead>\n  <tbody>\n    <tr>\n      <th>0</th>\n      <td>0</td>\n      <td>0.616657</td>\n    </tr>\n    <tr>\n      <th>1</th>\n      <td>1</td>\n      <td>3.742713</td>\n    </tr>\n    <tr>\n      <th>2</th>\n      <td>2</td>\n      <td>0.880027</td>\n    </tr>\n    <tr>\n      <th>3</th>\n      <td>3</td>\n      <td>2.513194</td>\n    </tr>\n    <tr>\n      <th>4</th>\n      <td>4</td>\n      <td>1.953740</td>\n    </tr>\n  </tbody>\n</table>\n</div>"
     },
     "execution_count": 5,
     "metadata": {},
     "output_type": "execute_result"
    }
   ],
   "source": [
    "import pandas as pd\n",
    "from XCD.IRT.metrics import eval\n",
    "\n",
    "user_id = list(range(cfg.hyper_params[\"user_num\"]))\n",
    "theta = net.get_theta(user_id)\n",
    "user_df = pd.DataFrame({\n",
    "    \"user_id\": user_id,\n",
    "    \"theta\": theta.asnumpy().tolist()\n",
    "})\n",
    "user_df.head()"
   ],
   "metadata": {
    "collapsed": false,
    "pycharm": {
     "name": "#%%\n"
    }
   }
  },
  {
   "cell_type": "code",
   "execution_count": 6,
   "outputs": [
    {
     "data": {
      "text/plain": "   item_id         a         b    c\n0        0  0.712413  0.331391  0.4\n1        1  1.524633 -0.843536  0.4\n2        2  1.700163 -0.464836  0.4\n3        3  1.644652 -0.475207  0.4\n4        4  1.620100 -0.073687  0.4",
      "text/html": "<div>\n<style scoped>\n    .dataframe tbody tr th:only-of-type {\n        vertical-align: middle;\n    }\n\n    .dataframe tbody tr th {\n        vertical-align: top;\n    }\n\n    .dataframe thead th {\n        text-align: right;\n    }\n</style>\n<table border=\"1\" class=\"dataframe\">\n  <thead>\n    <tr style=\"text-align: right;\">\n      <th></th>\n      <th>item_id</th>\n      <th>a</th>\n      <th>b</th>\n      <th>c</th>\n    </tr>\n  </thead>\n  <tbody>\n    <tr>\n      <th>0</th>\n      <td>0</td>\n      <td>0.712413</td>\n      <td>0.331391</td>\n      <td>0.4</td>\n    </tr>\n    <tr>\n      <th>1</th>\n      <td>1</td>\n      <td>1.524633</td>\n      <td>-0.843536</td>\n      <td>0.4</td>\n    </tr>\n    <tr>\n      <th>2</th>\n      <td>2</td>\n      <td>1.700163</td>\n      <td>-0.464836</td>\n      <td>0.4</td>\n    </tr>\n    <tr>\n      <th>3</th>\n      <td>3</td>\n      <td>1.644652</td>\n      <td>-0.475207</td>\n      <td>0.4</td>\n    </tr>\n    <tr>\n      <th>4</th>\n      <td>4</td>\n      <td>1.620100</td>\n      <td>-0.073687</td>\n      <td>0.4</td>\n    </tr>\n  </tbody>\n</table>\n</div>"
     },
     "execution_count": 6,
     "metadata": {},
     "output_type": "execute_result"
    }
   ],
   "source": [
    "item_id = list(range(cfg.hyper_params[\"item_num\"]))\n",
    "a = net.get_a(item_id)\n",
    "b = net.get_b(item_id)\n",
    "c = net.get_c(item_id)\n",
    "item_df = pd.DataFrame({\n",
    "    \"item_id\": item_id,\n",
    "    \"a\": a.asnumpy().tolist(),\n",
    "    \"b\": b.asnumpy().tolist(),\n",
    "    \"c\": c.asnumpy().tolist(),\n",
    "})\n",
    "item_df.head()"
   ],
   "metadata": {
    "collapsed": false,
    "pycharm": {
     "name": "#%%\n"
    }
   }
  },
  {
   "cell_type": "code",
   "execution_count": 7,
   "outputs": [
    {
     "name": "stdout",
     "output_type": "stream",
     "text": [
      "           precision    recall        f1  support\n",
      "0.0         0.817368  0.156265  0.262369    19275\n",
      "1.0         0.687700  0.981554  0.808762    36485\n",
      "macro_avg   0.752534  0.568909  0.535566    55760\n",
      "accuracy: 0.696270\tmacro_auc: 0.739607\tmacro_aupoc: 0.826015\n"
     ]
    }
   ],
   "source": [
    "eval(test_df, user_df, item_df)"
   ],
   "metadata": {
    "collapsed": false,
    "pycharm": {
     "name": "#%%\n"
    }
   }
  }
 ],
 "metadata": {
  "kernelspec": {
   "display_name": "Python 3",
   "language": "python",
   "name": "python3"
  },
  "language_info": {
   "codemirror_mode": {
    "name": "ipython",
    "version": 2
   },
   "file_extension": ".py",
   "mimetype": "text/x-python",
   "name": "python",
   "nbconvert_exporter": "python",
   "pygments_lexer": "ipython2",
   "version": "2.7.6"
  }
 },
 "nbformat": 4,
 "nbformat_minor": 0
}